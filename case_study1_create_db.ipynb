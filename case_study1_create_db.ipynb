{
 "cells": [
  {
   "cell_type": "markdown",
   "id": "371a3ed3-c4df-413a-b1ad-86e5001e5c82",
   "metadata": {},
   "source": [
    "# Case Study 1: Danny's Diner"
   ]
  },
  {
   "cell_type": "code",
   "execution_count": 1,
   "id": "aa4be572-4897-4cb0-a1d7-c570ce1c9034",
   "metadata": {},
   "outputs": [],
   "source": [
    "from sqlalchemy import create_engine, MetaData, Table, Column, Integer, String, Date, ForeignKey\n",
    "from datetime import date"
   ]
  },
  {
   "cell_type": "markdown",
   "id": "774072c4-42bf-4915-846d-6e7b72ff8933",
   "metadata": {},
   "source": [
    "## Create tables"
   ]
  },
  {
   "cell_type": "code",
   "execution_count": 2,
   "id": "89778ee7-ac07-485c-bbac-801f9838ea73",
   "metadata": {},
   "outputs": [],
   "source": [
    "engine = create_engine('sqlite:///dannys_diner.db', echo = True)\n",
    "meta = MetaData()"
   ]
  },
  {
   "cell_type": "code",
   "execution_count": 2,
   "id": "b9208857-e0bc-4e4d-ac0a-355b22aa7c84",
   "metadata": {},
   "outputs": [],
   "source": [
    "sales = Table(\n",
    "   'sales', meta, \n",
    "   Column('customer_id', String(1)), \n",
    "   Column('order_date', Date), \n",
    "   Column('product_id', String(1), ForeignKey('menu.product_id')),\n",
    ")\n",
    "\n",
    "menu = Table(\n",
    "   'menu', meta, \n",
    "   Column('product_id', String(1), primary_key = True), \n",
    "   Column('product_name', String), \n",
    "   Column('price', Integer),\n",
    ")\n",
    "\n",
    "members = Table(\n",
    "   'members', meta, \n",
    "   Column('customer_id', String(1)), \n",
    "   Column('join_date',  Date), \n",
    ")"
   ]
  },
  {
   "cell_type": "code",
   "execution_count": 2,
   "id": "d1b45ade-a240-42b6-8d5f-a0e7045de0cc",
   "metadata": {},
   "outputs": [
    {
     "name": "stdout",
     "output_type": "stream",
     "text": [
      "2022-06-03 23:27:29,551 INFO sqlalchemy.engine.Engine BEGIN (implicit)\n",
      "2022-06-03 23:27:29,556 INFO sqlalchemy.engine.Engine PRAGMA main.table_info(\"sales\")\n",
      "2022-06-03 23:27:29,558 INFO sqlalchemy.engine.Engine [raw sql] ()\n",
      "2022-06-03 23:27:29,560 INFO sqlalchemy.engine.Engine PRAGMA temp.table_info(\"sales\")\n",
      "2022-06-03 23:27:29,563 INFO sqlalchemy.engine.Engine [raw sql] ()\n",
      "2022-06-03 23:27:29,567 INFO sqlalchemy.engine.Engine PRAGMA main.table_info(\"menu\")\n",
      "2022-06-03 23:27:29,568 INFO sqlalchemy.engine.Engine [raw sql] ()\n",
      "2022-06-03 23:27:29,569 INFO sqlalchemy.engine.Engine PRAGMA temp.table_info(\"menu\")\n",
      "2022-06-03 23:27:29,570 INFO sqlalchemy.engine.Engine [raw sql] ()\n",
      "2022-06-03 23:27:29,571 INFO sqlalchemy.engine.Engine PRAGMA main.table_info(\"members\")\n",
      "2022-06-03 23:27:29,571 INFO sqlalchemy.engine.Engine [raw sql] ()\n",
      "2022-06-03 23:27:29,571 INFO sqlalchemy.engine.Engine PRAGMA temp.table_info(\"members\")\n",
      "2022-06-03 23:27:29,571 INFO sqlalchemy.engine.Engine [raw sql] ()\n",
      "2022-06-03 23:27:29,587 INFO sqlalchemy.engine.Engine \n",
      "CREATE TABLE menu (\n",
      "\tproduct_id VARCHAR(1) NOT NULL, \n",
      "\tproduct_name VARCHAR, \n",
      "\tprice INTEGER, \n",
      "\tPRIMARY KEY (product_id)\n",
      ")\n",
      "\n",
      "\n",
      "2022-06-03 23:27:29,587 INFO sqlalchemy.engine.Engine [no key 0.00152s] ()\n",
      "2022-06-03 23:27:29,601 INFO sqlalchemy.engine.Engine \n",
      "CREATE TABLE members (\n",
      "\tcustomer_id VARCHAR(1), \n",
      "\tjoin_date DATE\n",
      ")\n",
      "\n",
      "\n",
      "2022-06-03 23:27:29,609 INFO sqlalchemy.engine.Engine [no key 0.00112s] ()\n",
      "2022-06-03 23:27:29,620 INFO sqlalchemy.engine.Engine \n",
      "CREATE TABLE sales (\n",
      "\tcustomer_id VARCHAR(1), \n",
      "\torder_date DATE, \n",
      "\tproduct_id VARCHAR(1), \n",
      "\tFOREIGN KEY(product_id) REFERENCES menu (product_id)\n",
      ")\n",
      "\n",
      "\n",
      "2022-06-03 23:27:29,622 INFO sqlalchemy.engine.Engine [no key 0.00119s] ()\n",
      "2022-06-03 23:27:29,650 INFO sqlalchemy.engine.Engine COMMIT\n"
     ]
    }
   ],
   "source": [
    "meta.create_all(engine)"
   ]
  },
  {
   "cell_type": "markdown",
   "id": "16c3fd97-1de0-450e-81f7-46dc02b1ba17",
   "metadata": {},
   "source": [
    "## Insert Values into Tables"
   ]
  },
  {
   "cell_type": "code",
   "execution_count": 3,
   "id": "68473c46-2737-4897-a478-0275a288490b",
   "metadata": {},
   "outputs": [],
   "source": [
    "sales_values = [\n",
    "  {'customer_id': 'A', 'order_date': date(2021, 1, 1), 'product_id': '1'},\n",
    "  {'customer_id': 'A', 'order_date': date(2021, 1, 1), 'product_id': '2'},\n",
    "  {'customer_id': 'A', 'order_date': date(2021, 1, 7), 'product_id': '2'},\n",
    "  {'customer_id': 'A', 'order_date': date(2021, 1, 10), 'product_id': '3'},\n",
    "  {'customer_id': 'A', 'order_date': date(2021, 1, 11), 'product_id': '3'},\n",
    "  {'customer_id': 'A', 'order_date': date(2021, 1, 11), 'product_id': '3'},\n",
    "  {'customer_id': 'B', 'order_date': date(2021, 1, 1), 'product_id': '2'},\n",
    "  {'customer_id': 'B', 'order_date': date(2021, 1, 2), 'product_id': '2'},\n",
    "  {'customer_id': 'B', 'order_date': date(2021, 1, 4), 'product_id': '1'},\n",
    "  {'customer_id': 'B', 'order_date': date(2021, 1, 11), 'product_id': '1'},\n",
    "  {'customer_id': 'B', 'order_date': date(2021, 1, 16), 'product_id': '3'},\n",
    "  {'customer_id': 'B', 'order_date': date(2021, 2, 1), 'product_id': '3'},\n",
    "  {'customer_id': 'C', 'order_date': date(2021, 1, 1), 'product_id': '3'},\n",
    "  {'customer_id': 'C', 'order_date': date(2021, 1, 1), 'product_id': '3'},\n",
    "  {'customer_id': 'C', 'order_date': date(2021, 1, 7), 'product_id': '3'}\n",
    "]"
   ]
  },
  {
   "cell_type": "code",
   "execution_count": 4,
   "id": "52039f6f-e38b-44d7-8f28-71c0503f7c47",
   "metadata": {},
   "outputs": [],
   "source": [
    "menu_values = [\n",
    "    {'product_id': '1', 'product_name': 'sushi', 'price': 10},\n",
    "    {'product_id': '2', 'product_name': 'curry', 'price': 15},\n",
    "    {'product_id': '3', 'product_name': 'ramen', 'price': 12}\n",
    "]"
   ]
  },
  {
   "cell_type": "code",
   "execution_count": 5,
   "id": "cf92c544-cbae-4328-88e2-3a637e829ecb",
   "metadata": {},
   "outputs": [],
   "source": [
    "members_values = [\n",
    "    {'customer_id': 'A', 'join_date': date(2021, 1, 7)},\n",
    "    {'customer_id': 'B', 'join_date': date(2021, 1, 9)}\n",
    "]"
   ]
  },
  {
   "cell_type": "code",
   "execution_count": 6,
   "id": "f131690d-2d59-45c4-9d41-f7dfdb41766f",
   "metadata": {},
   "outputs": [],
   "source": [
    "connection = engine.connect()"
   ]
  },
  {
   "cell_type": "code",
   "execution_count": 7,
   "id": "66a96956-ac2f-4bb3-ba92-4fa6fcf3123f",
   "metadata": {},
   "outputs": [
    {
     "name": "stdout",
     "output_type": "stream",
     "text": [
      "2022-06-03 23:27:29,830 INFO sqlalchemy.engine.Engine INSERT INTO sales (customer_id, order_date, product_id) VALUES (?, ?, ?)\n",
      "2022-06-03 23:27:29,841 INFO sqlalchemy.engine.Engine [generated in 0.01030s] (('A', '2021-01-01', '1'), ('A', '2021-01-01', '2'), ('A', '2021-01-07', '2'), ('A', '2021-01-10', '3'), ('A', '2021-01-11', '3'), ('A', '2021-01-11', '3'), ('B', '2021-01-01', '2'), ('B', '2021-01-02', '2')  ... displaying 10 of 15 total bound parameter sets ...  ('C', '2021-01-01', '3'), ('C', '2021-01-07', '3'))\n",
      "2022-06-03 23:27:29,878 INFO sqlalchemy.engine.Engine COMMIT\n"
     ]
    },
    {
     "data": {
      "text/plain": [
       "<sqlalchemy.engine.cursor.LegacyCursorResult at 0x14579a09c08>"
      ]
     },
     "execution_count": 7,
     "metadata": {},
     "output_type": "execute_result"
    }
   ],
   "source": [
    "connection.execute(sales.insert(), sales_values)"
   ]
  },
  {
   "cell_type": "code",
   "execution_count": 8,
   "id": "cd6661bc-c8b4-4935-86fd-7e90b97517d6",
   "metadata": {},
   "outputs": [
    {
     "name": "stdout",
     "output_type": "stream",
     "text": [
      "2022-06-03 23:27:29,926 INFO sqlalchemy.engine.Engine INSERT INTO menu (product_id, product_name, price) VALUES (?, ?, ?)\n",
      "2022-06-03 23:27:29,934 INFO sqlalchemy.engine.Engine [generated in 0.00207s] (('1', 'sushi', 10), ('2', 'curry', 15), ('3', 'ramen', 12))\n",
      "2022-06-03 23:27:29,940 INFO sqlalchemy.engine.Engine COMMIT\n"
     ]
    },
    {
     "data": {
      "text/plain": [
       "<sqlalchemy.engine.cursor.LegacyCursorResult at 0x1457a9e45c8>"
      ]
     },
     "execution_count": 8,
     "metadata": {},
     "output_type": "execute_result"
    }
   ],
   "source": [
    "connection.execute(menu.insert(), menu_values)"
   ]
  },
  {
   "cell_type": "code",
   "execution_count": 9,
   "id": "7d838698-ff93-4468-9d00-506a7179800a",
   "metadata": {},
   "outputs": [
    {
     "name": "stdout",
     "output_type": "stream",
     "text": [
      "2022-06-03 23:27:29,982 INFO sqlalchemy.engine.Engine INSERT INTO members (customer_id, join_date) VALUES (?, ?)\n",
      "2022-06-03 23:27:29,986 INFO sqlalchemy.engine.Engine [generated in 0.00275s] (('A', '2021-01-07'), ('B', '2021-01-09'))\n",
      "2022-06-03 23:27:29,990 INFO sqlalchemy.engine.Engine COMMIT\n"
     ]
    },
    {
     "data": {
      "text/plain": [
       "<sqlalchemy.engine.cursor.LegacyCursorResult at 0x1457b0939c8>"
      ]
     },
     "execution_count": 9,
     "metadata": {},
     "output_type": "execute_result"
    }
   ],
   "source": [
    "connection.execute(members.insert(), members_values)"
   ]
  },
  {
   "cell_type": "code",
   "execution_count": 10,
   "id": "668590f8-b551-4807-9774-6881c1fe3262",
   "metadata": {},
   "outputs": [],
   "source": [
    "connection.close()"
   ]
  }
 ],
 "metadata": {
  "kernelspec": {
   "display_name": "Python 3 (ipykernel)",
   "language": "python",
   "name": "python3"
  },
  "language_info": {
   "codemirror_mode": {
    "name": "ipython",
    "version": 3
   },
   "file_extension": ".py",
   "mimetype": "text/x-python",
   "name": "python",
   "nbconvert_exporter": "python",
   "pygments_lexer": "ipython3",
   "version": "3.7.11"
  }
 },
 "nbformat": 4,
 "nbformat_minor": 5
}
