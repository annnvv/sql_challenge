{
 "cells": [
  {
   "cell_type": "markdown",
   "id": "ea257f67-2ee1-488e-84e0-5b4deff1c193",
   "metadata": {},
   "source": [
    "# Case Study #2: Pizza Runner [Website Link](https://8weeksqlchallenge.com/case-study-2/)"
   ]
  },
  {
   "cell_type": "code",
   "execution_count": 1,
   "id": "3dc7d356-2bd7-4948-81a1-d5a15e9bda24",
   "metadata": {},
   "outputs": [],
   "source": [
    "from sqlalchemy import create_engine, MetaData, Table, Column, Integer, String, Date, DateTime, ForeignKey, TIMESTAMP\n",
    "from datetime import date, datetime"
   ]
  },
  {
   "cell_type": "markdown",
   "id": "455f8eba-580e-4b56-8cbf-185ace80f55b",
   "metadata": {},
   "source": [
    "## Create tables"
   ]
  },
  {
   "cell_type": "code",
   "execution_count": 2,
   "id": "fed931b2-8d7d-4837-b45c-baa00fca6d91",
   "metadata": {},
   "outputs": [
    {
     "name": "stdout",
     "output_type": "stream",
     "text": [
      "2022-06-06 19:38:08,469 INFO sqlalchemy.engine.Engine BEGIN (implicit)\n",
      "2022-06-06 19:38:08,475 INFO sqlalchemy.engine.Engine PRAGMA main.table_info(\"runners\")\n",
      "2022-06-06 19:38:08,476 INFO sqlalchemy.engine.Engine [raw sql] ()\n",
      "2022-06-06 19:38:08,478 INFO sqlalchemy.engine.Engine PRAGMA temp.table_info(\"runners\")\n",
      "2022-06-06 19:38:08,478 INFO sqlalchemy.engine.Engine [raw sql] ()\n",
      "2022-06-06 19:38:08,478 INFO sqlalchemy.engine.Engine PRAGMA main.table_info(\"customer_orders\")\n",
      "2022-06-06 19:38:08,478 INFO sqlalchemy.engine.Engine [raw sql] ()\n",
      "2022-06-06 19:38:08,478 INFO sqlalchemy.engine.Engine PRAGMA temp.table_info(\"customer_orders\")\n",
      "2022-06-06 19:38:08,478 INFO sqlalchemy.engine.Engine [raw sql] ()\n",
      "2022-06-06 19:38:08,486 INFO sqlalchemy.engine.Engine PRAGMA main.table_info(\"runner_orders\")\n",
      "2022-06-06 19:38:08,486 INFO sqlalchemy.engine.Engine [raw sql] ()\n",
      "2022-06-06 19:38:08,490 INFO sqlalchemy.engine.Engine PRAGMA temp.table_info(\"runner_orders\")\n",
      "2022-06-06 19:38:08,492 INFO sqlalchemy.engine.Engine [raw sql] ()\n",
      "2022-06-06 19:38:08,494 INFO sqlalchemy.engine.Engine PRAGMA main.table_info(\"pizza_names\")\n",
      "2022-06-06 19:38:08,495 INFO sqlalchemy.engine.Engine [raw sql] ()\n",
      "2022-06-06 19:38:08,498 INFO sqlalchemy.engine.Engine PRAGMA temp.table_info(\"pizza_names\")\n",
      "2022-06-06 19:38:08,499 INFO sqlalchemy.engine.Engine [raw sql] ()\n",
      "2022-06-06 19:38:08,499 INFO sqlalchemy.engine.Engine PRAGMA main.table_info(\"pizza_recipes\")\n",
      "2022-06-06 19:38:08,499 INFO sqlalchemy.engine.Engine [raw sql] ()\n",
      "2022-06-06 19:38:08,503 INFO sqlalchemy.engine.Engine PRAGMA temp.table_info(\"pizza_recipes\")\n",
      "2022-06-06 19:38:08,503 INFO sqlalchemy.engine.Engine [raw sql] ()\n",
      "2022-06-06 19:38:08,505 INFO sqlalchemy.engine.Engine PRAGMA main.table_info(\"pizza_toppings\")\n",
      "2022-06-06 19:38:08,508 INFO sqlalchemy.engine.Engine [raw sql] ()\n",
      "2022-06-06 19:38:08,509 INFO sqlalchemy.engine.Engine PRAGMA temp.table_info(\"pizza_toppings\")\n",
      "2022-06-06 19:38:08,510 INFO sqlalchemy.engine.Engine [raw sql] ()\n",
      "2022-06-06 19:38:08,518 INFO sqlalchemy.engine.Engine \n",
      "CREATE TABLE runners (\n",
      "\trunner_id INTEGER, \n",
      "\tregistration_date DATE\n",
      ")\n",
      "\n",
      "\n",
      "2022-06-06 19:38:08,519 INFO sqlalchemy.engine.Engine [no key 0.00116s] ()\n",
      "2022-06-06 19:38:08,532 INFO sqlalchemy.engine.Engine \n",
      "CREATE TABLE customer_orders (\n",
      "\torder_id INTEGER, \n",
      "\tcustomer_id INTEGER, \n",
      "\tpizza_id INTEGER, \n",
      "\texclusions VARCHAR(4), \n",
      "\textras VARCHAR(4), \n",
      "\torder_time TIMESTAMP\n",
      ")\n",
      "\n",
      "\n",
      "2022-06-06 19:38:08,536 INFO sqlalchemy.engine.Engine [no key 0.00223s] ()\n",
      "2022-06-06 19:38:08,556 INFO sqlalchemy.engine.Engine \n",
      "CREATE TABLE runner_orders (\n",
      "\torder_id INTEGER, \n",
      "\trunner_id INTEGER, \n",
      "\tpickup_time VARCHAR(19), \n",
      "\tdistance VARCHAR(7), \n",
      "\tduration VARCHAR(10), \n",
      "\tcancellation VARCHAR(23)\n",
      ")\n",
      "\n",
      "\n",
      "2022-06-06 19:38:08,557 INFO sqlalchemy.engine.Engine [no key 0.00111s] ()\n",
      "2022-06-06 19:38:08,567 INFO sqlalchemy.engine.Engine \n",
      "CREATE TABLE pizza_names (\n",
      "\tpizza_id INTEGER, \n",
      "\tpizza_name VARCHAR\n",
      ")\n",
      "\n",
      "\n",
      "2022-06-06 19:38:08,568 INFO sqlalchemy.engine.Engine [no key 0.00084s] ()\n",
      "2022-06-06 19:38:08,582 INFO sqlalchemy.engine.Engine \n",
      "CREATE TABLE pizza_recipes (\n",
      "\tpizza_id INTEGER, \n",
      "\ttoppings VARCHAR\n",
      ")\n",
      "\n",
      "\n",
      "2022-06-06 19:38:08,583 INFO sqlalchemy.engine.Engine [no key 0.00097s] ()\n",
      "2022-06-06 19:38:08,592 INFO sqlalchemy.engine.Engine \n",
      "CREATE TABLE pizza_toppings (\n",
      "\ttopping_id INTEGER, \n",
      "\ttopping_name VARCHAR\n",
      ")\n",
      "\n",
      "\n",
      "2022-06-06 19:38:08,595 INFO sqlalchemy.engine.Engine [no key 0.00324s] ()\n",
      "2022-06-06 19:38:08,603 INFO sqlalchemy.engine.Engine COMMIT\n"
     ]
    }
   ],
   "source": [
    "engine = create_engine('sqlite:///pizza_runner.db', echo = True)\n",
    "meta = MetaData()\n",
    "\n",
    "runners = Table(\n",
    "   'runners', meta, \n",
    "   Column('runner_id', Integer), \n",
    "   Column('registration_date', Date), \n",
    ")\n",
    "\n",
    "customer_orders = Table(\n",
    "   'customer_orders', meta, \n",
    "    Column('order_id', Integer), \n",
    "    Column('customer_id', Integer), \n",
    "    Column('pizza_id', Integer),\n",
    "    Column('exclusions', String(4)),\n",
    "    Column('extras', String(4)),\n",
    "    Column('order_time', TIMESTAMP(DateTime)),\n",
    ")\n",
    "\n",
    "runner_orders = Table(\n",
    "    'runner_orders', meta, \n",
    "    Column('order_id', Integer), \n",
    "    Column('runner_id',  Integer), \n",
    "    Column('pickup_time', String(19)), \n",
    "    Column('distance',  String(7)), \n",
    "    Column('duration', String(10)), \n",
    "    Column('cancellation',  String(23)), \n",
    ")\n",
    "\n",
    "pizza_names = Table(\n",
    "    'pizza_names', meta, \n",
    "    Column('pizza_id', Integer), \n",
    "    Column('pizza_name',  String), \n",
    ")\n",
    "\n",
    "pizza_recipes = Table(\n",
    "    'pizza_recipes', meta, \n",
    "    Column('pizza_id', Integer), \n",
    "    Column('toppings',  String), \n",
    ")\n",
    "\n",
    "pizza_toppings = Table(\n",
    "    'pizza_toppings', meta, \n",
    "    Column('topping_id', Integer), \n",
    "    Column('topping_name',  String), \n",
    ")\n",
    "\n",
    "meta.create_all(engine)"
   ]
  },
  {
   "cell_type": "code",
   "execution_count": null,
   "id": "a4559909-bdce-4f43-ac67-1ee81f5f234d",
   "metadata": {},
   "outputs": [],
   "source": []
  },
  {
   "cell_type": "markdown",
   "id": "a8765161-2e07-40a0-b5ee-03544433153f",
   "metadata": {
    "tags": []
   },
   "source": [
    "## Insert Values into Tables"
   ]
  },
  {
   "cell_type": "code",
   "execution_count": 3,
   "id": "74d3fc1e-53ae-4aaf-9d21-dae08f570e9d",
   "metadata": {},
   "outputs": [],
   "source": [
    "runners_values = [\n",
    "  {'runner_id': 1, 'registration_date': date(2021, 1, 1)},\n",
    "  {'runner_id': 2, 'registration_date': date(2021, 1, 3)},\n",
    "  {'runner_id': 3, 'registration_date': date(2021, 1, 8)},\n",
    "  {'runner_id': 4, 'registration_date': date(2021, 1, 15)}\n",
    "]\n",
    "   \n",
    "# datetime.strptime(date_time_str, '%y-%m-%d %H:%M:%S')\n",
    "customer_orders_values = [\n",
    "  {'order_id': 1, 'customer_id': '101', 'pizza_id': '1', 'exclusions': '', 'extras': '', 'order_time': datetime.strptime('2020-01-01 18:05:02', '%Y-%m-%d %H:%M:%S')},\n",
    "  {'order_id': 2, 'customer_id': '101', 'pizza_id': '1', 'exclusions': '', 'extras': '', 'order_time': datetime.strptime('2020-01-01 19:00:52', '%Y-%m-%d %H:%M:%S')},\n",
    "  {'order_id': 3, 'customer_id': '102', 'pizza_id': '1', 'exclusions': '', 'extras': '', 'order_time': datetime.strptime('2020-01-02 23:51:23', '%Y-%m-%d %H:%M:%S')},\n",
    "  {'order_id': 3, 'customer_id': '102', 'pizza_id': '2', 'exclusions': '', 'extras': None, 'order_time': datetime.strptime('2020-01-02 23:51:23', '%Y-%m-%d %H:%M:%S')},\n",
    "  {'order_id': 4, 'customer_id': '103', 'pizza_id': '1', 'exclusions': '4', 'extras': '', 'order_time': datetime.strptime('2020-01-04 13:23:46', '%Y-%m-%d %H:%M:%S')},\n",
    "  {'order_id': 4, 'customer_id': '103', 'pizza_id': '1', 'exclusions': '4', 'extras': '', 'order_time': datetime.strptime('2020-01-04 13:23:46', '%Y-%m-%d %H:%M:%S')},\n",
    "  {'order_id': 4, 'customer_id': '103', 'pizza_id': '2', 'exclusions': '4', 'extras': '', 'order_time': datetime.strptime('2020-01-04 13:23:46', '%Y-%m-%d %H:%M:%S')},\n",
    "  {'order_id': 5, 'customer_id': '104', 'pizza_id': '1', 'exclusions': 'null', 'extras': '1', 'order_time': datetime.strptime('2020-01-08 21:00:29', '%Y-%m-%d %H:%M:%S')},\n",
    "  {'order_id': 6, 'customer_id': '101', 'pizza_id': '2', 'exclusions': 'null', 'extras': 'null', 'order_time': datetime.strptime('2020-01-08 21:03:13', '%Y-%m-%d %H:%M:%S')},\n",
    "  {'order_id': 7, 'customer_id': '105', 'pizza_id': '2', 'exclusions': 'null', 'extras': '1', 'order_time': datetime.strptime('2020-01-08 21:20:29', '%Y-%m-%d %H:%M:%S')},\n",
    "  {'order_id': 8, 'customer_id': '102', 'pizza_id': '1', 'exclusions': 'null', 'extras': 'null', 'order_time': datetime.strptime('2020-01-09 23:54:33', '%Y-%m-%d %H:%M:%S')},\n",
    "  {'order_id': 9, 'customer_id': '103', 'pizza_id': '1', 'exclusions': '4', 'extras': '1, 5', 'order_time': datetime.strptime('2020-01-10 11:22:59', '%Y-%m-%d %H:%M:%S')},\n",
    "  {'order_id': 10, 'customer_id': '104', 'pizza_id': '1', 'exclusions': 'null', 'extras': 'null', 'order_time': datetime.strptime('2020-01-11 18:34:49', '%Y-%m-%d %H:%M:%S')},\n",
    "  {'order_id': 10, 'customer_id': '104', 'pizza_id': '1', 'exclusions': '2, 6', 'extras': '1, 4', 'order_time': datetime.strptime('2020-01-11 18:34:49', '%Y-%m-%d %H:%M:%S')}    \n",
    "]\n",
    "\n",
    "runner_orders_values = [\n",
    "  {'order_id': '1', 'runner_id': '1', 'pickup_time': '2020-01-01 18:15:34', 'distance': '20km', 'duration': '32 minutes', 'cancellation': ''},\n",
    "  {'order_id': '2', 'runner_id': '1', 'pickup_time': '2020-01-01 19:10:54', 'distance': '20km', 'duration': '27 minutes', 'cancellation': ''},\n",
    "  {'order_id': '3', 'runner_id': '1', 'pickup_time': '2020-01-03 00:12:37', 'distance': '13.4km', 'duration': '20 mins', 'cancellation': None},\n",
    "  {'order_id': '4', 'runner_id': '2', 'pickup_time': '2020-01-04 13:53:03', 'distance': '23.4', 'duration': '40', 'cancellation': None},\n",
    "  {'order_id': '5', 'runner_id': '3', 'pickup_time': '2020-01-08 21:10:57', 'distance': '10', 'duration': '15', 'cancellation': None},\n",
    "  {'order_id': '6', 'runner_id': '3', 'pickup_time': 'null', 'distance': 'null', 'duration': 'null', 'cancellation': 'Restaurant Cancellation'},\n",
    "  {'order_id': '7', 'runner_id': '2', 'pickup_time': '2020-01-08 21:30:45', 'distance': '25km', 'duration': '25mins', 'cancellation': 'null'},\n",
    "  {'order_id': '8', 'runner_id': '2', 'pickup_time': '2020-01-10 00:15:02', 'distance': '23.4 km', 'duration': '15 minute', 'cancellation': 'null'},\n",
    "  {'order_id': '9', 'runner_id': '2', 'pickup_time': 'null', 'distance': 'null', 'duration': 'null', 'cancellation': 'Customer Cancellation'},\n",
    "  {'order_id': '10', 'runner_id': '1', 'pickup_time': '2020-01-11 18:50:20', 'distance': '10km', 'duration': '10minutes', 'cancellation': 'null'}\n",
    "\n",
    "]\n",
    "   \n",
    "pizza_names_values = [\n",
    "  {'pizza_id': 1, 'pizza_name' :'Meatlovers'},\n",
    "  {'pizza_id': 2, 'pizza_name' :'Vegetarian'}\n",
    "] \n",
    "\n",
    "pizza_recipes_values = [\n",
    "  {'pizza_id': 1, 'toppings': '1, 2, 3, 4, 5, 6, 8, 10'},\n",
    "  {'pizza_id': 2, 'toppings': '4, 6, 7, 9, 11, 12'}\n",
    "]\n",
    "\n",
    "pizza_toppings_values = [\n",
    "  {'topping_id': 1, 'topping_name': 'Bacon'},\n",
    "  {'topping_id': 2, 'topping_name': 'BBQ Sauce'},\n",
    "  {'topping_id': 3, 'topping_name': 'Beef'},\n",
    "  {'topping_id': 4, 'topping_name': 'Cheese'},\n",
    "  {'topping_id': 5, 'topping_name': 'Chicken'},\n",
    "  {'topping_id': 6, 'topping_name': 'Mushrooms'},\n",
    "  {'topping_id': 7, 'topping_name': 'Onions'},\n",
    "  {'topping_id': 8, 'topping_name': 'Pepperoni'},\n",
    "  {'topping_id': 9, 'topping_name': 'Peppers'},\n",
    "  {'topping_id': 10, 'topping_name': 'Salami'},\n",
    "  {'topping_id': 11, 'topping_name': 'Tomatoes'},\n",
    "  {'topping_id': 12, 'topping_name': 'Tomato Sauce'}\n",
    "]"
   ]
  },
  {
   "cell_type": "code",
   "execution_count": 4,
   "id": "efc58215-9d78-4258-8bcc-334703a1efbb",
   "metadata": {},
   "outputs": [],
   "source": [
    "connection = engine.connect()"
   ]
  },
  {
   "cell_type": "code",
   "execution_count": 5,
   "id": "66e0db50-a536-41cc-ac80-fbf258a31ff4",
   "metadata": {},
   "outputs": [
    {
     "name": "stdout",
     "output_type": "stream",
     "text": [
      "2022-06-06 19:38:08,740 INFO sqlalchemy.engine.Engine INSERT INTO runners (runner_id, registration_date) VALUES (?, ?)\n",
      "2022-06-06 19:38:08,741 INFO sqlalchemy.engine.Engine [generated in 0.00140s] ((1, '2021-01-01'), (2, '2021-01-03'), (3, '2021-01-08'), (4, '2021-01-15'))\n",
      "2022-06-06 19:38:08,752 INFO sqlalchemy.engine.Engine COMMIT\n"
     ]
    },
    {
     "data": {
      "text/plain": [
       "<sqlalchemy.engine.cursor.LegacyCursorResult at 0x128d1328b48>"
      ]
     },
     "execution_count": 5,
     "metadata": {},
     "output_type": "execute_result"
    }
   ],
   "source": [
    "connection.execute(runners.insert(), runners_values)"
   ]
  },
  {
   "cell_type": "code",
   "execution_count": 6,
   "id": "1afba62b-9f25-4bba-8561-6f7d335b6898",
   "metadata": {},
   "outputs": [
    {
     "name": "stdout",
     "output_type": "stream",
     "text": [
      "2022-06-06 19:38:08,799 INFO sqlalchemy.engine.Engine INSERT INTO customer_orders (order_id, customer_id, pizza_id, exclusions, extras, order_time) VALUES (?, ?, ?, ?, ?, ?)\n",
      "2022-06-06 19:38:08,802 INFO sqlalchemy.engine.Engine [generated in 0.00176s] ((1, '101', '1', '', '', '2020-01-01 18:05:02.000000'), (2, '101', '1', '', '', '2020-01-01 19:00:52.000000'), (3, '102', '1', '', '', '2020-01-02 23:51:23.000000'), (3, '102', '2', '', None, '2020-01-02 23:51:23.000000'), (4, '103', '1', '4', '', '2020-01-04 13:23:46.000000'), (4, '103', '1', '4', '', '2020-01-04 13:23:46.000000'), (4, '103', '2', '4', '', '2020-01-04 13:23:46.000000'), (5, '104', '1', 'null', '1', '2020-01-08 21:00:29.000000')  ... displaying 10 of 14 total bound parameter sets ...  (10, '104', '1', 'null', 'null', '2020-01-11 18:34:49.000000'), (10, '104', '1', '2, 6', '1, 4', '2020-01-11 18:34:49.000000'))\n",
      "2022-06-06 19:38:08,813 INFO sqlalchemy.engine.Engine COMMIT\n"
     ]
    },
    {
     "data": {
      "text/plain": [
       "<sqlalchemy.engine.cursor.LegacyCursorResult at 0x128d2af4c48>"
      ]
     },
     "execution_count": 6,
     "metadata": {},
     "output_type": "execute_result"
    }
   ],
   "source": [
    "connection.execute(customer_orders.insert(), customer_orders_values)"
   ]
  },
  {
   "cell_type": "code",
   "execution_count": 7,
   "id": "5c32ad0c-ebd7-42ef-b05f-ede083ddf3de",
   "metadata": {},
   "outputs": [
    {
     "name": "stdout",
     "output_type": "stream",
     "text": [
      "2022-06-06 19:38:08,861 INFO sqlalchemy.engine.Engine INSERT INTO runner_orders (order_id, runner_id, pickup_time, distance, duration, cancellation) VALUES (?, ?, ?, ?, ?, ?)\n",
      "2022-06-06 19:38:08,863 INFO sqlalchemy.engine.Engine [generated in 0.00278s] (('1', '1', '2020-01-01 18:15:34', '20km', '32 minutes', ''), ('2', '1', '2020-01-01 19:10:54', '20km', '27 minutes', ''), ('3', '1', '2020-01-03 00:12:37', '13.4km', '20 mins', None), ('4', '2', '2020-01-04 13:53:03', '23.4', '40', None), ('5', '3', '2020-01-08 21:10:57', '10', '15', None), ('6', '3', 'null', 'null', 'null', 'Restaurant Cancellation'), ('7', '2', '2020-01-08 21:30:45', '25km', '25mins', 'null'), ('8', '2', '2020-01-10 00:15:02', '23.4 km', '15 minute', 'null'), ('9', '2', 'null', 'null', 'null', 'Customer Cancellation'), ('10', '1', '2020-01-11 18:50:20', '10km', '10minutes', 'null'))\n",
      "2022-06-06 19:38:08,871 INFO sqlalchemy.engine.Engine COMMIT\n"
     ]
    },
    {
     "data": {
      "text/plain": [
       "<sqlalchemy.engine.cursor.LegacyCursorResult at 0x128d2a3cec8>"
      ]
     },
     "execution_count": 7,
     "metadata": {},
     "output_type": "execute_result"
    }
   ],
   "source": [
    "connection.execute(runner_orders.insert(), runner_orders_values)"
   ]
  },
  {
   "cell_type": "code",
   "execution_count": 8,
   "id": "24b70df4-ba96-4025-ac77-878ce5690db6",
   "metadata": {},
   "outputs": [
    {
     "name": "stdout",
     "output_type": "stream",
     "text": [
      "2022-06-06 19:38:08,913 INFO sqlalchemy.engine.Engine INSERT INTO pizza_names (pizza_id, pizza_name) VALUES (?, ?)\n",
      "2022-06-06 19:38:08,918 INFO sqlalchemy.engine.Engine [generated in 0.00483s] ((1, 'Meatlovers'), (2, 'Vegetarian'))\n",
      "2022-06-06 19:38:08,924 INFO sqlalchemy.engine.Engine COMMIT\n"
     ]
    },
    {
     "data": {
      "text/plain": [
       "<sqlalchemy.engine.cursor.LegacyCursorResult at 0x128d2ae0408>"
      ]
     },
     "execution_count": 8,
     "metadata": {},
     "output_type": "execute_result"
    }
   ],
   "source": [
    "connection.execute(pizza_names.insert(), pizza_names_values)"
   ]
  },
  {
   "cell_type": "code",
   "execution_count": 9,
   "id": "b4dc478b-4532-4e97-ba6c-4d0251be2776",
   "metadata": {},
   "outputs": [
    {
     "name": "stdout",
     "output_type": "stream",
     "text": [
      "2022-06-06 19:38:08,959 INFO sqlalchemy.engine.Engine INSERT INTO pizza_recipes (pizza_id, toppings) VALUES (?, ?)\n",
      "2022-06-06 19:38:08,959 INFO sqlalchemy.engine.Engine [generated in 0.00152s] ((1, '1, 2, 3, 4, 5, 6, 8, 10'), (2, '4, 6, 7, 9, 11, 12'))\n",
      "2022-06-06 19:38:08,972 INFO sqlalchemy.engine.Engine COMMIT\n"
     ]
    },
    {
     "data": {
      "text/plain": [
       "<sqlalchemy.engine.cursor.LegacyCursorResult at 0x128d2b07e48>"
      ]
     },
     "execution_count": 9,
     "metadata": {},
     "output_type": "execute_result"
    }
   ],
   "source": [
    "connection.execute(pizza_recipes.insert(), pizza_recipes_values)"
   ]
  },
  {
   "cell_type": "code",
   "execution_count": 10,
   "id": "a4786568-8056-4c9d-9575-8d21c2a52893",
   "metadata": {},
   "outputs": [
    {
     "name": "stdout",
     "output_type": "stream",
     "text": [
      "2022-06-06 19:38:09,021 INFO sqlalchemy.engine.Engine INSERT INTO pizza_toppings (topping_id, topping_name) VALUES (?, ?)\n",
      "2022-06-06 19:38:09,028 INFO sqlalchemy.engine.Engine [generated in 0.00582s] ((1, 'Bacon'), (2, 'BBQ Sauce'), (3, 'Beef'), (4, 'Cheese'), (5, 'Chicken'), (6, 'Mushrooms'), (7, 'Onions'), (8, 'Pepperoni')  ... displaying 10 of 12 total bound parameter sets ...  (11, 'Tomatoes'), (12, 'Tomato Sauce'))\n",
      "2022-06-06 19:38:09,031 INFO sqlalchemy.engine.Engine COMMIT\n"
     ]
    },
    {
     "data": {
      "text/plain": [
       "<sqlalchemy.engine.cursor.LegacyCursorResult at 0x128d2a6a5c8>"
      ]
     },
     "execution_count": 10,
     "metadata": {},
     "output_type": "execute_result"
    }
   ],
   "source": [
    "connection.execute(pizza_toppings.insert(), pizza_toppings_values)"
   ]
  },
  {
   "cell_type": "code",
   "execution_count": 11,
   "id": "426bbfcc-15e3-414d-abb6-893240bfb5a0",
   "metadata": {},
   "outputs": [],
   "source": [
    "connection.close()"
   ]
  }
 ],
 "metadata": {
  "kernelspec": {
   "display_name": "Python 3 (ipykernel)",
   "language": "python",
   "name": "python3"
  },
  "language_info": {
   "codemirror_mode": {
    "name": "ipython",
    "version": 3
   },
   "file_extension": ".py",
   "mimetype": "text/x-python",
   "name": "python",
   "nbconvert_exporter": "python",
   "pygments_lexer": "ipython3",
   "version": "3.7.11"
  }
 },
 "nbformat": 4,
 "nbformat_minor": 5
}
