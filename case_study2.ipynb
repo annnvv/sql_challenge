{
 "cells": [
  {
   "cell_type": "markdown",
   "id": "90bdaaeb-5efd-4fcc-abeb-bbd3992bdee2",
   "metadata": {},
   "source": [
    "# Case Study #2: Pizza Runner [Website Link](https://8weeksqlchallenge.com/case-study-2/)"
   ]
  },
  {
   "cell_type": "markdown",
   "id": "fab378a3-74fa-498f-9698-f3eb60b77b82",
   "metadata": {},
   "source": [
    "Common Table Expressions or CTEs act like *temporary views* that exist only for the duration of a single SQL statement. \n",
    "\n",
    "There are two kinds of common table expressions: \"ordinary\" and \"recursive\". \n",
    "\n",
    "**Ordinary common table expressions** are helpful for making queries easier to understand by factoring subqueries out of the main SQL statement. \n",
    "\n",
    "**Recursive common table expressions** provide the ability to do hierarchical or recursive queries of trees and graphs, a capability that is not otherwise available in the SQL language.\n",
    "\n",
    "[Source](https://www.sqlite.org/lang_with.html)"
   ]
  },
  {
   "cell_type": "markdown",
   "id": "b27704a2-d19b-4036-b2c6-8f60fffbb49d",
   "metadata": {},
   "source": [
    "The **UNION** command combines the result set of two or more SELECT statements (only distinct values) [Source](https://www.w3schools.com/sql/sql_ref_union.asp)\n",
    "\n",
    "The **UNION ALL** command combines the result set of two or more SELECT statements (allows duplicate values). [Source](https://www.w3schools.com/sql/sql_ref_union_all.asp)"
   ]
  },
  {
   "cell_type": "code",
   "execution_count": 1,
   "id": "82f811a9-f975-4c39-a872-ecb9c28dd9e3",
   "metadata": {},
   "outputs": [],
   "source": [
    "%load_ext sql\n",
    "%sql sqlite:///pizza_runner.db"
   ]
  },
  {
   "cell_type": "code",
   "execution_count": 2,
   "id": "80f50a3c-068f-4a37-867e-ae2625560d1e",
   "metadata": {},
   "outputs": [
    {
     "name": "stdout",
     "output_type": "stream",
     "text": [
      " * sqlite:///pizza_runner.db\n",
      "Done.\n"
     ]
    },
    {
     "data": {
      "text/html": [
       "<table>\n",
       "    <tr>\n",
       "        <th>order_id</th>\n",
       "        <th>customer_id</th>\n",
       "        <th>pizza_id</th>\n",
       "        <th>exclusions</th>\n",
       "        <th>extras</th>\n",
       "        <th>order_time</th>\n",
       "    </tr>\n",
       "    <tr>\n",
       "        <td>1</td>\n",
       "        <td>101</td>\n",
       "        <td>1</td>\n",
       "        <td></td>\n",
       "        <td></td>\n",
       "        <td>2020-01-01 18:05:02.000000</td>\n",
       "    </tr>\n",
       "    <tr>\n",
       "        <td>2</td>\n",
       "        <td>101</td>\n",
       "        <td>1</td>\n",
       "        <td></td>\n",
       "        <td></td>\n",
       "        <td>2020-01-01 19:00:52.000000</td>\n",
       "    </tr>\n",
       "    <tr>\n",
       "        <td>3</td>\n",
       "        <td>102</td>\n",
       "        <td>1</td>\n",
       "        <td></td>\n",
       "        <td></td>\n",
       "        <td>2020-01-02 23:51:23.000000</td>\n",
       "    </tr>\n",
       "    <tr>\n",
       "        <td>3</td>\n",
       "        <td>102</td>\n",
       "        <td>2</td>\n",
       "        <td></td>\n",
       "        <td>None</td>\n",
       "        <td>2020-01-02 23:51:23.000000</td>\n",
       "    </tr>\n",
       "    <tr>\n",
       "        <td>4</td>\n",
       "        <td>103</td>\n",
       "        <td>1</td>\n",
       "        <td>4</td>\n",
       "        <td></td>\n",
       "        <td>2020-01-04 13:23:46.000000</td>\n",
       "    </tr>\n",
       "    <tr>\n",
       "        <td>4</td>\n",
       "        <td>103</td>\n",
       "        <td>1</td>\n",
       "        <td>4</td>\n",
       "        <td></td>\n",
       "        <td>2020-01-04 13:23:46.000000</td>\n",
       "    </tr>\n",
       "    <tr>\n",
       "        <td>4</td>\n",
       "        <td>103</td>\n",
       "        <td>2</td>\n",
       "        <td>4</td>\n",
       "        <td></td>\n",
       "        <td>2020-01-04 13:23:46.000000</td>\n",
       "    </tr>\n",
       "    <tr>\n",
       "        <td>5</td>\n",
       "        <td>104</td>\n",
       "        <td>1</td>\n",
       "        <td>null</td>\n",
       "        <td>1</td>\n",
       "        <td>2020-01-08 21:00:29.000000</td>\n",
       "    </tr>\n",
       "    <tr>\n",
       "        <td>6</td>\n",
       "        <td>101</td>\n",
       "        <td>2</td>\n",
       "        <td>null</td>\n",
       "        <td>null</td>\n",
       "        <td>2020-01-08 21:03:13.000000</td>\n",
       "    </tr>\n",
       "    <tr>\n",
       "        <td>7</td>\n",
       "        <td>105</td>\n",
       "        <td>2</td>\n",
       "        <td>null</td>\n",
       "        <td>1</td>\n",
       "        <td>2020-01-08 21:20:29.000000</td>\n",
       "    </tr>\n",
       "    <tr>\n",
       "        <td>8</td>\n",
       "        <td>102</td>\n",
       "        <td>1</td>\n",
       "        <td>null</td>\n",
       "        <td>null</td>\n",
       "        <td>2020-01-09 23:54:33.000000</td>\n",
       "    </tr>\n",
       "    <tr>\n",
       "        <td>9</td>\n",
       "        <td>103</td>\n",
       "        <td>1</td>\n",
       "        <td>4</td>\n",
       "        <td>1, 5</td>\n",
       "        <td>2020-01-10 11:22:59.000000</td>\n",
       "    </tr>\n",
       "    <tr>\n",
       "        <td>10</td>\n",
       "        <td>104</td>\n",
       "        <td>1</td>\n",
       "        <td>null</td>\n",
       "        <td>null</td>\n",
       "        <td>2020-01-11 18:34:49.000000</td>\n",
       "    </tr>\n",
       "    <tr>\n",
       "        <td>10</td>\n",
       "        <td>104</td>\n",
       "        <td>1</td>\n",
       "        <td>2, 6</td>\n",
       "        <td>1, 4</td>\n",
       "        <td>2020-01-11 18:34:49.000000</td>\n",
       "    </tr>\n",
       "</table>"
      ],
      "text/plain": [
       "[(1, 101, 1, '', '', '2020-01-01 18:05:02.000000'),\n",
       " (2, 101, 1, '', '', '2020-01-01 19:00:52.000000'),\n",
       " (3, 102, 1, '', '', '2020-01-02 23:51:23.000000'),\n",
       " (3, 102, 2, '', None, '2020-01-02 23:51:23.000000'),\n",
       " (4, 103, 1, '4', '', '2020-01-04 13:23:46.000000'),\n",
       " (4, 103, 1, '4', '', '2020-01-04 13:23:46.000000'),\n",
       " (4, 103, 2, '4', '', '2020-01-04 13:23:46.000000'),\n",
       " (5, 104, 1, 'null', '1', '2020-01-08 21:00:29.000000'),\n",
       " (6, 101, 2, 'null', 'null', '2020-01-08 21:03:13.000000'),\n",
       " (7, 105, 2, 'null', '1', '2020-01-08 21:20:29.000000'),\n",
       " (8, 102, 1, 'null', 'null', '2020-01-09 23:54:33.000000'),\n",
       " (9, 103, 1, '4', '1, 5', '2020-01-10 11:22:59.000000'),\n",
       " (10, 104, 1, 'null', 'null', '2020-01-11 18:34:49.000000'),\n",
       " (10, 104, 1, '2, 6', '1, 4', '2020-01-11 18:34:49.000000')]"
      ]
     },
     "execution_count": 2,
     "metadata": {},
     "output_type": "execute_result"
    }
   ],
   "source": [
    "%%sql\n",
    "SELECT *\n",
    "FROM customer_orders \n",
    "--pizza_toppings"
   ]
  },
  {
   "cell_type": "markdown",
   "id": "055c81eb-0ae9-41d7-9ed3-a3cfe82fdfcb",
   "metadata": {},
   "source": [
    "# A. Pizza Metrics"
   ]
  },
  {
   "cell_type": "markdown",
   "id": "1ec407c2-c2cf-40fe-aa03-49c6e4fdbf21",
   "metadata": {},
   "source": [
    "## Question A1: How many pizzas were ordered?\n",
    "\n",
    "From case: \"Customer pizza orders are captured in the customer_orders table with 1 row for each individual pizza that is part of the order.\""
   ]
  },
  {
   "cell_type": "code",
   "execution_count": 3,
   "id": "ae5dfce8-e310-4046-98ff-83d21da77c63",
   "metadata": {},
   "outputs": [
    {
     "name": "stdout",
     "output_type": "stream",
     "text": [
      " * sqlite:///pizza_runner.db\n",
      "Done.\n"
     ]
    },
    {
     "data": {
      "text/html": [
       "<table>\n",
       "    <tr>\n",
       "        <th>num_pizzas</th>\n",
       "    </tr>\n",
       "    <tr>\n",
       "        <td>14</td>\n",
       "    </tr>\n",
       "</table>"
      ],
      "text/plain": [
       "[(14,)]"
      ]
     },
     "execution_count": 3,
     "metadata": {},
     "output_type": "execute_result"
    }
   ],
   "source": [
    "%%sql \n",
    "SELECT COUNT(*) as num_pizzas\n",
    "FROM customer_orders;"
   ]
  },
  {
   "cell_type": "markdown",
   "id": "1f92da2a-76b2-47ad-befc-a8cd581e93b2",
   "metadata": {},
   "source": [
    "## Question A2: How many unique customer orders were made?"
   ]
  },
  {
   "cell_type": "code",
   "execution_count": 4,
   "id": "d2cd86c9-0920-4c32-88fb-96a74ac1def2",
   "metadata": {},
   "outputs": [
    {
     "name": "stdout",
     "output_type": "stream",
     "text": [
      " * sqlite:///pizza_runner.db\n",
      "Done.\n"
     ]
    },
    {
     "data": {
      "text/html": [
       "<table>\n",
       "    <tr>\n",
       "        <th>unique_customer_orders</th>\n",
       "    </tr>\n",
       "    <tr>\n",
       "        <td>10</td>\n",
       "    </tr>\n",
       "</table>"
      ],
      "text/plain": [
       "[(10,)]"
      ]
     },
     "execution_count": 4,
     "metadata": {},
     "output_type": "execute_result"
    }
   ],
   "source": [
    "%%sql \n",
    "SELECT COUNT(DISTINCT(order_id)) as unique_customer_orders\n",
    "FROM customer_orders;"
   ]
  },
  {
   "cell_type": "markdown",
   "id": "c6ef18e0-584b-4123-8798-6e6e959ab3fb",
   "metadata": {},
   "source": [
    "## Question A3: How many successful orders were delivered by each runner?"
   ]
  },
  {
   "cell_type": "code",
   "execution_count": 5,
   "id": "718f9976-05d7-4522-ba95-bb6b064d478c",
   "metadata": {},
   "outputs": [],
   "source": [
    "# %%sql \n",
    "# SELECT *\n",
    "# FROM customer_orders AS cust\n",
    "# LEFT JOIN runner_orders AS run ON cust.order_id = run.order_id\n",
    "# WHERE run.pickup_time IS NOT 'null';"
   ]
  },
  {
   "cell_type": "code",
   "execution_count": 6,
   "id": "e91abfd3-711b-4307-b090-eee0547bb271",
   "metadata": {},
   "outputs": [
    {
     "name": "stdout",
     "output_type": "stream",
     "text": [
      " * sqlite:///pizza_runner.db\n",
      "Done.\n"
     ]
    },
    {
     "data": {
      "text/html": [
       "<table>\n",
       "    <tr>\n",
       "        <th>runner_id</th>\n",
       "        <th>orders</th>\n",
       "    </tr>\n",
       "    <tr>\n",
       "        <td>1</td>\n",
       "        <td>4</td>\n",
       "    </tr>\n",
       "    <tr>\n",
       "        <td>2</td>\n",
       "        <td>3</td>\n",
       "    </tr>\n",
       "    <tr>\n",
       "        <td>3</td>\n",
       "        <td>1</td>\n",
       "    </tr>\n",
       "</table>"
      ],
      "text/plain": [
       "[(1, 4), (2, 3), (3, 1)]"
      ]
     },
     "execution_count": 6,
     "metadata": {},
     "output_type": "execute_result"
    }
   ],
   "source": [
    "%%sql \n",
    "SELECT run.runner_id, COUNT(DISTINCT(cust.order_id)) as orders\n",
    "FROM customer_orders AS cust\n",
    "LEFT JOIN runner_orders AS run ON cust.order_id = run.order_id\n",
    "WHERE run.pickup_time IS NOT 'null'\n",
    "GROUP BY run.runner_id;"
   ]
  },
  {
   "cell_type": "markdown",
   "id": "1ffda3c2-1160-4332-a4c1-c0083cc79148",
   "metadata": {},
   "source": [
    "## Question A4: How many of each type of pizza was delivered?"
   ]
  },
  {
   "cell_type": "code",
   "execution_count": 7,
   "id": "b0b39633-d073-4a91-9623-6672e4849cf4",
   "metadata": {},
   "outputs": [
    {
     "name": "stdout",
     "output_type": "stream",
     "text": [
      " * sqlite:///pizza_runner.db\n",
      "Done.\n"
     ]
    },
    {
     "data": {
      "text/html": [
       "<table>\n",
       "    <tr>\n",
       "        <th>pizza_id</th>\n",
       "        <th>num_pizzas</th>\n",
       "    </tr>\n",
       "    <tr>\n",
       "        <td>1</td>\n",
       "        <td>9</td>\n",
       "    </tr>\n",
       "    <tr>\n",
       "        <td>2</td>\n",
       "        <td>3</td>\n",
       "    </tr>\n",
       "</table>"
      ],
      "text/plain": [
       "[(1, 9), (2, 3)]"
      ]
     },
     "execution_count": 7,
     "metadata": {},
     "output_type": "execute_result"
    }
   ],
   "source": [
    "%%sql \n",
    "SELECT customer_orders.pizza_id, COUNT(*) as num_pizzas\n",
    "FROM customer_orders\n",
    "LEFT JOIN runner_orders AS run ON customer_orders.order_id = run.order_id\n",
    "WHERE run.pickup_time IS NOT 'null'\n",
    "GROUP BY pizza_id;"
   ]
  },
  {
   "cell_type": "markdown",
   "id": "087b7ea7-ada4-47ac-8148-685f2557b19b",
   "metadata": {},
   "source": [
    "## Question A5: How many Vegetarian and Meatlovers were ordered by each customer?"
   ]
  },
  {
   "cell_type": "code",
   "execution_count": 8,
   "id": "81b38452-6bbe-493c-ac5a-8c1ab26a0bc7",
   "metadata": {},
   "outputs": [
    {
     "name": "stdout",
     "output_type": "stream",
     "text": [
      " * sqlite:///pizza_runner.db\n",
      "Done.\n"
     ]
    },
    {
     "data": {
      "text/html": [
       "<table>\n",
       "    <tr>\n",
       "        <th>customer_id</th>\n",
       "        <th>pizza_name</th>\n",
       "        <th>num_pizzas</th>\n",
       "    </tr>\n",
       "    <tr>\n",
       "        <td>101</td>\n",
       "        <td>Meatlovers</td>\n",
       "        <td>2</td>\n",
       "    </tr>\n",
       "    <tr>\n",
       "        <td>101</td>\n",
       "        <td>Vegetarian</td>\n",
       "        <td>1</td>\n",
       "    </tr>\n",
       "    <tr>\n",
       "        <td>102</td>\n",
       "        <td>Meatlovers</td>\n",
       "        <td>2</td>\n",
       "    </tr>\n",
       "    <tr>\n",
       "        <td>102</td>\n",
       "        <td>Vegetarian</td>\n",
       "        <td>1</td>\n",
       "    </tr>\n",
       "    <tr>\n",
       "        <td>103</td>\n",
       "        <td>Meatlovers</td>\n",
       "        <td>3</td>\n",
       "    </tr>\n",
       "    <tr>\n",
       "        <td>103</td>\n",
       "        <td>Vegetarian</td>\n",
       "        <td>1</td>\n",
       "    </tr>\n",
       "    <tr>\n",
       "        <td>104</td>\n",
       "        <td>Meatlovers</td>\n",
       "        <td>3</td>\n",
       "    </tr>\n",
       "    <tr>\n",
       "        <td>105</td>\n",
       "        <td>Vegetarian</td>\n",
       "        <td>1</td>\n",
       "    </tr>\n",
       "</table>"
      ],
      "text/plain": [
       "[(101, 'Meatlovers', 2),\n",
       " (101, 'Vegetarian', 1),\n",
       " (102, 'Meatlovers', 2),\n",
       " (102, 'Vegetarian', 1),\n",
       " (103, 'Meatlovers', 3),\n",
       " (103, 'Vegetarian', 1),\n",
       " (104, 'Meatlovers', 3),\n",
       " (105, 'Vegetarian', 1)]"
      ]
     },
     "execution_count": 8,
     "metadata": {},
     "output_type": "execute_result"
    }
   ],
   "source": [
    "%%sql \n",
    "SELECT customer_orders.customer_id, pizza_names.pizza_name, COUNT(*) as num_pizzas\n",
    "FROM customer_orders\n",
    "LEFT JOIN pizza_names ON customer_orders.pizza_id = pizza_names.pizza_id\n",
    "GROUP BY customer_id, pizza_name"
   ]
  },
  {
   "cell_type": "markdown",
   "id": "19853360-66e5-4f6f-9a4a-4a5f343a966d",
   "metadata": {},
   "source": [
    "## Question A6: What was the maximum number of pizzas delivered in a single order?"
   ]
  },
  {
   "cell_type": "code",
   "execution_count": 9,
   "id": "0e5f5cfe-4c33-4335-aab5-8945bb0af089",
   "metadata": {},
   "outputs": [
    {
     "name": "stdout",
     "output_type": "stream",
     "text": [
      " * sqlite:///pizza_runner.db\n",
      "Done.\n"
     ]
    },
    {
     "data": {
      "text/html": [
       "<table>\n",
       "    <tr>\n",
       "        <th>order_id</th>\n",
       "        <th>pizza_per_order</th>\n",
       "    </tr>\n",
       "    <tr>\n",
       "        <td>4</td>\n",
       "        <td>3</td>\n",
       "    </tr>\n",
       "</table>"
      ],
      "text/plain": [
       "[(4, 3)]"
      ]
     },
     "execution_count": 9,
     "metadata": {},
     "output_type": "execute_result"
    }
   ],
   "source": [
    "%%sql \n",
    "SELECT order_id, COUNT(order_id) as pizza_per_order\n",
    "FROM customer_orders\n",
    "GROUP BY order_id\n",
    "ORDER BY pizza_per_order DESC\n",
    "LIMIT 1;"
   ]
  },
  {
   "cell_type": "markdown",
   "id": "db53fc6a-959c-4de2-a3d6-9a4a2a9762a6",
   "metadata": {},
   "source": [
    "## Question A7: For each customer, how many delivered pizzas had at least 1 change and how many had no changes?"
   ]
  },
  {
   "cell_type": "code",
   "execution_count": 10,
   "id": "007d47a1-f8cc-449d-b841-52dbb8c1185b",
   "metadata": {},
   "outputs": [
    {
     "name": "stdout",
     "output_type": "stream",
     "text": [
      " * sqlite:///pizza_runner.db\n",
      "Done.\n"
     ]
    },
    {
     "data": {
      "text/html": [
       "<table>\n",
       "    <tr>\n",
       "        <th>order_id</th>\n",
       "        <th>customer_id</th>\n",
       "        <th>exclusions</th>\n",
       "        <th>extras</th>\n",
       "    </tr>\n",
       "    <tr>\n",
       "        <td>4</td>\n",
       "        <td>103</td>\n",
       "        <td>4</td>\n",
       "        <td></td>\n",
       "    </tr>\n",
       "    <tr>\n",
       "        <td>4</td>\n",
       "        <td>103</td>\n",
       "        <td>4</td>\n",
       "        <td></td>\n",
       "    </tr>\n",
       "    <tr>\n",
       "        <td>4</td>\n",
       "        <td>103</td>\n",
       "        <td>4</td>\n",
       "        <td></td>\n",
       "    </tr>\n",
       "    <tr>\n",
       "        <td>5</td>\n",
       "        <td>104</td>\n",
       "        <td>null</td>\n",
       "        <td>1</td>\n",
       "    </tr>\n",
       "    <tr>\n",
       "        <td>7</td>\n",
       "        <td>105</td>\n",
       "        <td>null</td>\n",
       "        <td>1</td>\n",
       "    </tr>\n",
       "    <tr>\n",
       "        <td>9</td>\n",
       "        <td>103</td>\n",
       "        <td>4</td>\n",
       "        <td>1, 5</td>\n",
       "    </tr>\n",
       "    <tr>\n",
       "        <td>10</td>\n",
       "        <td>104</td>\n",
       "        <td>2, 6</td>\n",
       "        <td>1, 4</td>\n",
       "    </tr>\n",
       "</table>"
      ],
      "text/plain": [
       "[(4, 103, '4', ''),\n",
       " (4, 103, '4', ''),\n",
       " (4, 103, '4', ''),\n",
       " (5, 104, 'null', '1'),\n",
       " (7, 105, 'null', '1'),\n",
       " (9, 103, '4', '1, 5'),\n",
       " (10, 104, '2, 6', '1, 4')]"
      ]
     },
     "execution_count": 10,
     "metadata": {},
     "output_type": "execute_result"
    }
   ],
   "source": [
    "%%sql \n",
    "SELECT cust.order_id, cust.customer_id, cust.exclusions, cust.extras\n",
    "FROM customer_orders as cust\n",
    "LEFT JOIN runner_orders AS run ON cust.order_id = run.order_id\n",
    "WHERE run.pickup_time IS NOT 'null' AND\n",
    "    (cust.exclusions IS NOT '' AND cust.exclusions IS NOT 'null') OR (cust.extras IS NOT 'null' AND cust.extras IS NOT NULL AND cust.extras IS NOT '')"
   ]
  },
  {
   "cell_type": "code",
   "execution_count": 11,
   "id": "56ac5aa6-0208-4e34-b986-a86d5a3b99c8",
   "metadata": {},
   "outputs": [],
   "source": [
    "# 6 pizzas with at least one change (exclusion or extras)"
   ]
  },
  {
   "cell_type": "code",
   "execution_count": 12,
   "id": "a1e6c832-598f-48fa-a201-ebd13fa598e8",
   "metadata": {},
   "outputs": [
    {
     "name": "stdout",
     "output_type": "stream",
     "text": [
      " * sqlite:///pizza_runner.db\n",
      "Done.\n"
     ]
    },
    {
     "data": {
      "text/html": [
       "<table>\n",
       "    <tr>\n",
       "        <th>order_id</th>\n",
       "        <th>customer_id</th>\n",
       "        <th>exclusions</th>\n",
       "        <th>extras</th>\n",
       "    </tr>\n",
       "    <tr>\n",
       "        <td>1</td>\n",
       "        <td>101</td>\n",
       "        <td></td>\n",
       "        <td></td>\n",
       "    </tr>\n",
       "    <tr>\n",
       "        <td>2</td>\n",
       "        <td>101</td>\n",
       "        <td></td>\n",
       "        <td></td>\n",
       "    </tr>\n",
       "    <tr>\n",
       "        <td>3</td>\n",
       "        <td>102</td>\n",
       "        <td></td>\n",
       "        <td></td>\n",
       "    </tr>\n",
       "    <tr>\n",
       "        <td>3</td>\n",
       "        <td>102</td>\n",
       "        <td></td>\n",
       "        <td>None</td>\n",
       "    </tr>\n",
       "    <tr>\n",
       "        <td>8</td>\n",
       "        <td>102</td>\n",
       "        <td>null</td>\n",
       "        <td>null</td>\n",
       "    </tr>\n",
       "    <tr>\n",
       "        <td>10</td>\n",
       "        <td>104</td>\n",
       "        <td>null</td>\n",
       "        <td>null</td>\n",
       "    </tr>\n",
       "</table>"
      ],
      "text/plain": [
       "[(1, 101, '', ''),\n",
       " (2, 101, '', ''),\n",
       " (3, 102, '', ''),\n",
       " (3, 102, '', None),\n",
       " (8, 102, 'null', 'null'),\n",
       " (10, 104, 'null', 'null')]"
      ]
     },
     "execution_count": 12,
     "metadata": {},
     "output_type": "execute_result"
    }
   ],
   "source": [
    "%%sql \n",
    "SELECT cust.order_id, cust.customer_id, cust.exclusions, cust.extras\n",
    "FROM customer_orders as cust\n",
    "LEFT JOIN runner_orders AS run ON cust.order_id = run.order_id\n",
    "WHERE run.pickup_time IS NOT 'null' AND\n",
    "    (cust.exclusions IS '' OR cust.exclusions IS 'null') AND (cust.extras IS 'null' OR cust.extras IS NULL OR cust.extras IS '')"
   ]
  },
  {
   "cell_type": "code",
   "execution_count": 13,
   "id": "887853d6-d5d6-4253-8196-1e6b778161a1",
   "metadata": {},
   "outputs": [],
   "source": [
    "# six pizzas with no changes (exclusion or extras)"
   ]
  },
  {
   "cell_type": "markdown",
   "id": "0beda4b5-ddab-4ec0-b67c-2d3736babeac",
   "metadata": {},
   "source": [
    "## Question A8: How many pizzas were delivered that had both exclusions and extras?"
   ]
  },
  {
   "cell_type": "code",
   "execution_count": 14,
   "id": "bb7c8dcc-953c-4ec8-a9e8-d30afa9c9d03",
   "metadata": {},
   "outputs": [
    {
     "name": "stdout",
     "output_type": "stream",
     "text": [
      " * sqlite:///pizza_runner.db\n",
      "Done.\n"
     ]
    },
    {
     "data": {
      "text/html": [
       "<table>\n",
       "    <tr>\n",
       "        <th>order_id</th>\n",
       "        <th>customer_id</th>\n",
       "        <th>exclusions</th>\n",
       "        <th>extras</th>\n",
       "    </tr>\n",
       "    <tr>\n",
       "        <td>10</td>\n",
       "        <td>104</td>\n",
       "        <td>2, 6</td>\n",
       "        <td>1, 4</td>\n",
       "    </tr>\n",
       "</table>"
      ],
      "text/plain": [
       "[(10, 104, '2, 6', '1, 4')]"
      ]
     },
     "execution_count": 14,
     "metadata": {},
     "output_type": "execute_result"
    }
   ],
   "source": [
    "%%sql \n",
    "SELECT cust.order_id, cust.customer_id, cust.exclusions, cust.extras\n",
    "FROM customer_orders as cust\n",
    "LEFT JOIN runner_orders AS run ON cust.order_id = run.order_id\n",
    "WHERE run.pickup_time IS NOT 'null' AND\n",
    "    (cust.exclusions IS NOT '' AND cust.exclusions IS NOT 'null') AND (cust.extras IS NOT 'null' AND cust.extras IS NOT NULL AND cust.extras IS NOT '')"
   ]
  },
  {
   "cell_type": "code",
   "execution_count": 15,
   "id": "221b7f0f-7656-46f4-913b-5983df80f42a",
   "metadata": {},
   "outputs": [],
   "source": [
    "#only 1 pizza has both exclussions and extras"
   ]
  },
  {
   "cell_type": "markdown",
   "id": "ecab022d-e91f-4764-913e-df1d38bc7940",
   "metadata": {},
   "source": [
    "## Question A9: What was the total volume of pizzas ordered for each hour of the day?"
   ]
  },
  {
   "cell_type": "code",
   "execution_count": 16,
   "id": "22852064-58c2-4c68-a66f-905da76f7d2d",
   "metadata": {},
   "outputs": [
    {
     "name": "stdout",
     "output_type": "stream",
     "text": [
      " * sqlite:///pizza_runner.db\n",
      "Done.\n"
     ]
    },
    {
     "data": {
      "text/html": [
       "<table>\n",
       "    <tr>\n",
       "        <th>hour</th>\n",
       "        <th>num_pizzas</th>\n",
       "    </tr>\n",
       "    <tr>\n",
       "        <td>11</td>\n",
       "        <td>1</td>\n",
       "    </tr>\n",
       "    <tr>\n",
       "        <td>13</td>\n",
       "        <td>3</td>\n",
       "    </tr>\n",
       "    <tr>\n",
       "        <td>18</td>\n",
       "        <td>3</td>\n",
       "    </tr>\n",
       "    <tr>\n",
       "        <td>19</td>\n",
       "        <td>1</td>\n",
       "    </tr>\n",
       "    <tr>\n",
       "        <td>21</td>\n",
       "        <td>3</td>\n",
       "    </tr>\n",
       "    <tr>\n",
       "        <td>23</td>\n",
       "        <td>3</td>\n",
       "    </tr>\n",
       "</table>"
      ],
      "text/plain": [
       "[('11', 1), ('13', 3), ('18', 3), ('19', 1), ('21', 3), ('23', 3)]"
      ]
     },
     "execution_count": 16,
     "metadata": {},
     "output_type": "execute_result"
    }
   ],
   "source": [
    "%%sql \n",
    "SELECT strftime('%H', order_time) as hour, COUNT(*) as num_pizzas\n",
    "FROM customer_orders\n",
    "GROUP BY hour\n",
    "ORDER BY hour ASC;"
   ]
  },
  {
   "cell_type": "markdown",
   "id": "c9b94378-7f08-4085-bd3d-383f5846de50",
   "metadata": {},
   "source": [
    "## Question A10: What was the volume of orders for each day of the week?"
   ]
  },
  {
   "cell_type": "code",
   "execution_count": 17,
   "id": "12bbe3ae-a707-4831-9c00-70afd9842b32",
   "metadata": {},
   "outputs": [],
   "source": [
    "#--'%w' day of week 0-6 with Sunday==0"
   ]
  },
  {
   "cell_type": "code",
   "execution_count": 18,
   "id": "0831d46e-dbb6-4af8-8e7d-c30bba1e0975",
   "metadata": {},
   "outputs": [
    {
     "name": "stdout",
     "output_type": "stream",
     "text": [
      " * sqlite:///pizza_runner.db\n",
      "Done.\n"
     ]
    },
    {
     "data": {
      "text/html": [
       "<table>\n",
       "    <tr>\n",
       "        <th>day_of_week</th>\n",
       "        <th>num_pizzas</th>\n",
       "    </tr>\n",
       "    <tr>\n",
       "        <td>3</td>\n",
       "        <td>5</td>\n",
       "    </tr>\n",
       "    <tr>\n",
       "        <td>4</td>\n",
       "        <td>3</td>\n",
       "    </tr>\n",
       "    <tr>\n",
       "        <td>5</td>\n",
       "        <td>1</td>\n",
       "    </tr>\n",
       "    <tr>\n",
       "        <td>6</td>\n",
       "        <td>5</td>\n",
       "    </tr>\n",
       "</table>"
      ],
      "text/plain": [
       "[('3', 5), ('4', 3), ('5', 1), ('6', 5)]"
      ]
     },
     "execution_count": 18,
     "metadata": {},
     "output_type": "execute_result"
    }
   ],
   "source": [
    "%%sql \n",
    "SELECT strftime('%w', order_time) as day_of_week, COUNT(*) as num_pizzas\n",
    "FROM customer_orders\n",
    "GROUP BY day_of_week\n",
    "ORDER BY day_of_week ASC;"
   ]
  },
  {
   "cell_type": "markdown",
   "id": "abef9034-c8bb-47d2-808e-14048282366f",
   "metadata": {},
   "source": [
    "# B. Runner and Customer Experience"
   ]
  },
  {
   "cell_type": "markdown",
   "id": "947ad0a9-1d14-45af-b986-ce80f01dea14",
   "metadata": {},
   "source": [
    "## Question B1: How many runners signed up for each 1 week period? (i.e. week starts 2021-01-01)"
   ]
  },
  {
   "cell_type": "code",
   "execution_count": 19,
   "id": "33494d1f-5cf2-4a78-9a6a-cec07ee76a0b",
   "metadata": {},
   "outputs": [
    {
     "name": "stdout",
     "output_type": "stream",
     "text": [
      " * sqlite:///pizza_runner.db\n",
      "Done.\n"
     ]
    },
    {
     "data": {
      "text/html": [
       "<table>\n",
       "    <tr>\n",
       "        <th>week_num</th>\n",
       "        <th>num_runners</th>\n",
       "    </tr>\n",
       "    <tr>\n",
       "        <td>00</td>\n",
       "        <td>2</td>\n",
       "    </tr>\n",
       "    <tr>\n",
       "        <td>01</td>\n",
       "        <td>1</td>\n",
       "    </tr>\n",
       "    <tr>\n",
       "        <td>02</td>\n",
       "        <td>1</td>\n",
       "    </tr>\n",
       "</table>"
      ],
      "text/plain": [
       "[('00', 2), ('01', 1), ('02', 1)]"
      ]
     },
     "execution_count": 19,
     "metadata": {},
     "output_type": "execute_result"
    }
   ],
   "source": [
    "%%sql\n",
    "SELECT strftime('%W', registration_date) as week_num, COUNT(*) as num_runners\n",
    "FROM runners\n",
    "GROUP BY week_num\n",
    "ORDER BY week_num ASC;"
   ]
  },
  {
   "cell_type": "markdown",
   "id": "e454275e-a73c-4fe3-a7a6-03347625b943",
   "metadata": {},
   "source": [
    "## Question B2: What was the average time in minutes it took for each runner to arrive at the Pizza Runner HQ to pickup the order?"
   ]
  },
  {
   "cell_type": "code",
   "execution_count": 20,
   "id": "2e23356f-2bc7-42c2-b7de-ce3065f2ce08",
   "metadata": {},
   "outputs": [],
   "source": [
    "## not quite sure I understand what data is needed to answer this question"
   ]
  },
  {
   "cell_type": "markdown",
   "id": "ab667412-af8a-4832-9c1d-75dd1273128b",
   "metadata": {},
   "source": [
    "## Question B3: Is there any relationship between the number of pizzas and how long the order takes to prepare?"
   ]
  },
  {
   "cell_type": "code",
   "execution_count": 21,
   "id": "8af24fa4-6129-4e8e-8ba1-d8eca353e68b",
   "metadata": {},
   "outputs": [],
   "source": [
    "# -- IN PROGRESS"
   ]
  },
  {
   "cell_type": "code",
   "execution_count": 22,
   "id": "4e7d50fd-b7cb-4d06-81b5-dfbdba7ec592",
   "metadata": {},
   "outputs": [
    {
     "name": "stdout",
     "output_type": "stream",
     "text": [
      " * sqlite:///pizza_runner.db\n",
      "Done.\n"
     ]
    },
    {
     "data": {
      "text/html": [
       "<table>\n",
       "    <tr>\n",
       "        <th>num_pizzas</th>\n",
       "        <th>order_id</th>\n",
       "        <th>customer_id</th>\n",
       "        <th>order_time</th>\n",
       "        <th>order_id_1</th>\n",
       "        <th>runner_id</th>\n",
       "        <th>pickup_time</th>\n",
       "        <th>distance</th>\n",
       "        <th>duration</th>\n",
       "        <th>cancellation</th>\n",
       "        <th>prep_time</th>\n",
       "    </tr>\n",
       "    <tr>\n",
       "        <td>1</td>\n",
       "        <td>1</td>\n",
       "        <td>101</td>\n",
       "        <td>2020-01-01 18:05:02.000000</td>\n",
       "        <td>1</td>\n",
       "        <td>1</td>\n",
       "        <td>2020-01-01 18:15:34</td>\n",
       "        <td>20km</td>\n",
       "        <td>32 minutes</td>\n",
       "        <td></td>\n",
       "        <td>00:00</td>\n",
       "    </tr>\n",
       "    <tr>\n",
       "        <td>1</td>\n",
       "        <td>2</td>\n",
       "        <td>101</td>\n",
       "        <td>2020-01-01 19:00:52.000000</td>\n",
       "        <td>2</td>\n",
       "        <td>1</td>\n",
       "        <td>2020-01-01 19:10:54</td>\n",
       "        <td>20km</td>\n",
       "        <td>27 minutes</td>\n",
       "        <td></td>\n",
       "        <td>00:00</td>\n",
       "    </tr>\n",
       "    <tr>\n",
       "        <td>2</td>\n",
       "        <td>3</td>\n",
       "        <td>102</td>\n",
       "        <td>2020-01-02 23:51:23.000000</td>\n",
       "        <td>3</td>\n",
       "        <td>1</td>\n",
       "        <td>2020-01-03 00:12:37</td>\n",
       "        <td>13.4km</td>\n",
       "        <td>20 mins</td>\n",
       "        <td>None</td>\n",
       "        <td>00:00</td>\n",
       "    </tr>\n",
       "    <tr>\n",
       "        <td>3</td>\n",
       "        <td>4</td>\n",
       "        <td>103</td>\n",
       "        <td>2020-01-04 13:23:46.000000</td>\n",
       "        <td>4</td>\n",
       "        <td>2</td>\n",
       "        <td>2020-01-04 13:53:03</td>\n",
       "        <td>23.4</td>\n",
       "        <td>40</td>\n",
       "        <td>None</td>\n",
       "        <td>00:00</td>\n",
       "    </tr>\n",
       "    <tr>\n",
       "        <td>1</td>\n",
       "        <td>5</td>\n",
       "        <td>104</td>\n",
       "        <td>2020-01-08 21:00:29.000000</td>\n",
       "        <td>5</td>\n",
       "        <td>3</td>\n",
       "        <td>2020-01-08 21:10:57</td>\n",
       "        <td>10</td>\n",
       "        <td>15</td>\n",
       "        <td>None</td>\n",
       "        <td>00:00</td>\n",
       "    </tr>\n",
       "    <tr>\n",
       "        <td>1</td>\n",
       "        <td>7</td>\n",
       "        <td>105</td>\n",
       "        <td>2020-01-08 21:20:29.000000</td>\n",
       "        <td>7</td>\n",
       "        <td>2</td>\n",
       "        <td>2020-01-08 21:30:45</td>\n",
       "        <td>25km</td>\n",
       "        <td>25mins</td>\n",
       "        <td>null</td>\n",
       "        <td>00:00</td>\n",
       "    </tr>\n",
       "    <tr>\n",
       "        <td>1</td>\n",
       "        <td>8</td>\n",
       "        <td>102</td>\n",
       "        <td>2020-01-09 23:54:33.000000</td>\n",
       "        <td>8</td>\n",
       "        <td>2</td>\n",
       "        <td>2020-01-10 00:15:02</td>\n",
       "        <td>23.4 km</td>\n",
       "        <td>15 minute</td>\n",
       "        <td>null</td>\n",
       "        <td>00:00</td>\n",
       "    </tr>\n",
       "    <tr>\n",
       "        <td>2</td>\n",
       "        <td>10</td>\n",
       "        <td>104</td>\n",
       "        <td>2020-01-11 18:34:49.000000</td>\n",
       "        <td>10</td>\n",
       "        <td>1</td>\n",
       "        <td>2020-01-11 18:50:20</td>\n",
       "        <td>10km</td>\n",
       "        <td>10minutes</td>\n",
       "        <td>null</td>\n",
       "        <td>00:00</td>\n",
       "    </tr>\n",
       "</table>"
      ],
      "text/plain": [
       "[(1, 1, 101, '2020-01-01 18:05:02.000000', 1, 1, '2020-01-01 18:15:34', '20km', '32 minutes', '', '00:00'),\n",
       " (1, 2, 101, '2020-01-01 19:00:52.000000', 2, 1, '2020-01-01 19:10:54', '20km', '27 minutes', '', '00:00'),\n",
       " (2, 3, 102, '2020-01-02 23:51:23.000000', 3, 1, '2020-01-03 00:12:37', '13.4km', '20 mins', None, '00:00'),\n",
       " (3, 4, 103, '2020-01-04 13:23:46.000000', 4, 2, '2020-01-04 13:53:03', '23.4', '40', None, '00:00'),\n",
       " (1, 5, 104, '2020-01-08 21:00:29.000000', 5, 3, '2020-01-08 21:10:57', '10', '15', None, '00:00'),\n",
       " (1, 7, 105, '2020-01-08 21:20:29.000000', 7, 2, '2020-01-08 21:30:45', '25km', '25mins', 'null', '00:00'),\n",
       " (1, 8, 102, '2020-01-09 23:54:33.000000', 8, 2, '2020-01-10 00:15:02', '23.4 km', '15 minute', 'null', '00:00'),\n",
       " (2, 10, 104, '2020-01-11 18:34:49.000000', 10, 1, '2020-01-11 18:50:20', '10km', '10minutes', 'null', '00:00')]"
      ]
     },
     "execution_count": 22,
     "metadata": {},
     "output_type": "execute_result"
    }
   ],
   "source": [
    "%%sql\n",
    "\n",
    "SELECT COUNT(*) as num_pizzas, customer_orders.order_id, customer_orders.customer_id, customer_orders.order_time, \n",
    "    runner_orders.*, \n",
    "    strftime('%M:%S', strftime('%Y-%m-%d %H:%M:%S', runner_orders.pickup_time) - strftime('%Y-%m-%d %H:%M:%S', customer_orders.order_time)) as prep_time\n",
    "FROM customer_orders\n",
    "LEFT JOIN runner_orders ON customer_orders.order_id = runner_orders.order_id\n",
    "WHERE runner_orders.pickup_time IS NOT 'null'\n",
    "GROUP BY customer_orders.order_id;"
   ]
  },
  {
   "cell_type": "markdown",
   "id": "29915c2f-a3db-4fbc-b17c-e6c944433f9e",
   "metadata": {},
   "source": [
    "## Question B4: What was the average distance travelled for each customer?"
   ]
  },
  {
   "cell_type": "code",
   "execution_count": 23,
   "id": "94c9a14b-1efc-4c37-b1e7-229fe0954587",
   "metadata": {},
   "outputs": [
    {
     "name": "stdout",
     "output_type": "stream",
     "text": [
      " * sqlite:///pizza_runner.db\n",
      "Done.\n"
     ]
    },
    {
     "data": {
      "text/html": [
       "<table>\n",
       "    <tr>\n",
       "        <th>customer_id</th>\n",
       "        <th>avg_distance</th>\n",
       "    </tr>\n",
       "    <tr>\n",
       "        <td>101</td>\n",
       "        <td>20.0</td>\n",
       "    </tr>\n",
       "    <tr>\n",
       "        <td>102</td>\n",
       "        <td>18.4</td>\n",
       "    </tr>\n",
       "    <tr>\n",
       "        <td>103</td>\n",
       "        <td>23.4</td>\n",
       "    </tr>\n",
       "    <tr>\n",
       "        <td>104</td>\n",
       "        <td>10.0</td>\n",
       "    </tr>\n",
       "    <tr>\n",
       "        <td>105</td>\n",
       "        <td>25.0</td>\n",
       "    </tr>\n",
       "</table>"
      ],
      "text/plain": [
       "[(101, 20.0), (102, 18.4), (103, 23.4), (104, 10.0), (105, 25.0)]"
      ]
     },
     "execution_count": 23,
     "metadata": {},
     "output_type": "execute_result"
    }
   ],
   "source": [
    "%%sql\n",
    "WITH temp AS (\n",
    "    SELECT order_id, customer_id, COUNT(*) AS num_pizza\n",
    "    FROM customer_orders\n",
    "    GROUP BY order_id\n",
    ")\n",
    "SELECT temp.customer_id, AVG(runner_orders.distance) as avg_distance\n",
    "FROM runner_orders\n",
    "JOIN temp ON runner_orders.order_id = temp.order_id\n",
    "WHERE runner_orders.pickup_time IS NOT 'null'\n",
    "GROUP BY temp.customer_id;"
   ]
  },
  {
   "cell_type": "markdown",
   "id": "d42fa906-9c29-4eb2-8ae3-93744c2e10c3",
   "metadata": {},
   "source": [
    "## Question B5: What was the difference between the longest and shortest delivery times for all orders?"
   ]
  },
  {
   "cell_type": "code",
   "execution_count": 24,
   "id": "9eb5d812-0846-4867-8123-5a5d73e3581f",
   "metadata": {},
   "outputs": [
    {
     "name": "stdout",
     "output_type": "stream",
     "text": [
      " * sqlite:///pizza_runner.db\n",
      "Done.\n"
     ]
    },
    {
     "data": {
      "text/html": [
       "<table>\n",
       "    <tr>\n",
       "        <th>diff_between_longest_and_shortest_delivery</th>\n",
       "    </tr>\n",
       "    <tr>\n",
       "        <td>15</td>\n",
       "    </tr>\n",
       "</table>"
      ],
      "text/plain": [
       "[(15,)]"
      ]
     },
     "execution_count": 24,
     "metadata": {},
     "output_type": "execute_result"
    }
   ],
   "source": [
    "%%sql\n",
    "SELECT MAX(TRIM(REPLACE(distance, 'km', ''))) - MIN(TRIM(REPLACE(distance, 'km', ''))) as diff_between_longest_and_shortest_delivery\n",
    "FROM runner_orders\n",
    "WHERE pickup_time IS NOT 'null';"
   ]
  },
  {
   "cell_type": "markdown",
   "id": "275677c2-970c-49c6-8acb-f85e84a91bc0",
   "metadata": {},
   "source": [
    "## Question B6: What was the average **speed** for **each** runner for **each** delivery and do you notice any trend for these values?"
   ]
  },
  {
   "cell_type": "code",
   "execution_count": 25,
   "id": "75d4c9d6-05ac-4467-bfbe-1f0e17a99f06",
   "metadata": {},
   "outputs": [],
   "source": [
    "# %%sql\n",
    "# SELECT  *\n",
    "# FROM runner_orders\n",
    "\n",
    "# /*IN PROGRESS*/"
   ]
  },
  {
   "cell_type": "code",
   "execution_count": 26,
   "id": "c48e2030-1da3-4d42-9bfb-c8ac752650a9",
   "metadata": {},
   "outputs": [],
   "source": [
    "##av.note:TODO: figure out why some values are zero when they should not be... also convert from km/min to mph"
   ]
  },
  {
   "cell_type": "code",
   "execution_count": 27,
   "id": "2becc8be-ff87-4662-8d1a-bb70fdbbf254",
   "metadata": {},
   "outputs": [
    {
     "name": "stdout",
     "output_type": "stream",
     "text": [
      " * sqlite:///pizza_runner.db\n",
      "Done.\n"
     ]
    },
    {
     "data": {
      "text/html": [
       "<table>\n",
       "    <tr>\n",
       "        <th>runner_id</th>\n",
       "        <th>order_id</th>\n",
       "        <th>distance</th>\n",
       "        <th>duration</th>\n",
       "        <th>cancellation</th>\n",
       "        <th>pickup_time</th>\n",
       "        <th>distance_km</th>\n",
       "        <th>duration_min</th>\n",
       "        <th>km_per_min</th>\n",
       "    </tr>\n",
       "    <tr>\n",
       "        <td>1</td>\n",
       "        <td>10</td>\n",
       "        <td>10km</td>\n",
       "        <td>10minutes</td>\n",
       "        <td>null</td>\n",
       "        <td>2020-01-11 18:50:20</td>\n",
       "        <td>10</td>\n",
       "        <td>10</td>\n",
       "        <td>1</td>\n",
       "    </tr>\n",
       "    <tr>\n",
       "        <td>1</td>\n",
       "        <td>3</td>\n",
       "        <td>13.4km</td>\n",
       "        <td>20 mins</td>\n",
       "        <td>None</td>\n",
       "        <td>2020-01-03 00:12:37</td>\n",
       "        <td>13.4</td>\n",
       "        <td>20</td>\n",
       "        <td>0.67</td>\n",
       "    </tr>\n",
       "    <tr>\n",
       "        <td>1</td>\n",
       "        <td>2</td>\n",
       "        <td>20km</td>\n",
       "        <td>27 minutes</td>\n",
       "        <td></td>\n",
       "        <td>2020-01-01 19:10:54</td>\n",
       "        <td>20</td>\n",
       "        <td>27</td>\n",
       "        <td>0</td>\n",
       "    </tr>\n",
       "    <tr>\n",
       "        <td>1</td>\n",
       "        <td>1</td>\n",
       "        <td>20km</td>\n",
       "        <td>32 minutes</td>\n",
       "        <td></td>\n",
       "        <td>2020-01-01 18:15:34</td>\n",
       "        <td>20</td>\n",
       "        <td>32</td>\n",
       "        <td>0</td>\n",
       "    </tr>\n",
       "    <tr>\n",
       "        <td>2</td>\n",
       "        <td>8</td>\n",
       "        <td>23.4 km</td>\n",
       "        <td>15 minute</td>\n",
       "        <td>null</td>\n",
       "        <td>2020-01-10 00:15:02</td>\n",
       "        <td>23.4</td>\n",
       "        <td>15</td>\n",
       "        <td>1.5599999999999998</td>\n",
       "    </tr>\n",
       "    <tr>\n",
       "        <td>2</td>\n",
       "        <td>7</td>\n",
       "        <td>25km</td>\n",
       "        <td>25mins</td>\n",
       "        <td>null</td>\n",
       "        <td>2020-01-08 21:30:45</td>\n",
       "        <td>25</td>\n",
       "        <td>25</td>\n",
       "        <td>1</td>\n",
       "    </tr>\n",
       "    <tr>\n",
       "        <td>2</td>\n",
       "        <td>4</td>\n",
       "        <td>23.4</td>\n",
       "        <td>40</td>\n",
       "        <td>None</td>\n",
       "        <td>2020-01-04 13:53:03</td>\n",
       "        <td>23.4</td>\n",
       "        <td>40</td>\n",
       "        <td>0.585</td>\n",
       "    </tr>\n",
       "    <tr>\n",
       "        <td>3</td>\n",
       "        <td>5</td>\n",
       "        <td>10</td>\n",
       "        <td>15</td>\n",
       "        <td>None</td>\n",
       "        <td>2020-01-08 21:10:57</td>\n",
       "        <td>10</td>\n",
       "        <td>15</td>\n",
       "        <td>0</td>\n",
       "    </tr>\n",
       "</table>"
      ],
      "text/plain": [
       "[(1, 10, '10km', '10minutes', 'null', '2020-01-11 18:50:20', '10', '10', 1),\n",
       " (1, 3, '13.4km', '20 mins', None, '2020-01-03 00:12:37', '13.4', '20', 0.67),\n",
       " (1, 2, '20km', '27 minutes', '', '2020-01-01 19:10:54', '20', '27', 0),\n",
       " (1, 1, '20km', '32 minutes', '', '2020-01-01 18:15:34', '20', '32', 0),\n",
       " (2, 8, '23.4 km', '15 minute', 'null', '2020-01-10 00:15:02', '23.4', '15', 1.5599999999999998),\n",
       " (2, 7, '25km', '25mins', 'null', '2020-01-08 21:30:45', '25', '25', 1),\n",
       " (2, 4, '23.4', '40', None, '2020-01-04 13:53:03', '23.4', '40', 0.585),\n",
       " (3, 5, '10', '15', None, '2020-01-08 21:10:57', '10', '15', 0)]"
      ]
     },
     "execution_count": 27,
     "metadata": {},
     "output_type": "execute_result"
    }
   ],
   "source": [
    "%%sql\n",
    "SELECT runner_id, order_id, distance, duration, cancellation, pickup_time,\n",
    "    TRIM(REPLACE(distance, 'km', '')) as distance_km, \n",
    "    TRIM(REPLACE(REPLACE(REPLACE(runner_orders.duration, 'minutes', ''), 'mins', ''), 'minute', '')) as duration_min, \n",
    "    (CAST(TRIM(REPLACE(distance, 'km', '')) AS numeric) / \n",
    "     CAST(TRIM(REPLACE(REPLACE(REPLACE(runner_orders.duration, 'minutes', ''), 'mins', ''), 'minute', ''))AS numeric) ) as km_per_min\n",
    "FROM runner_orders\n",
    "WHERE pickup_time IS NOT 'null'\n",
    "GROUP BY order_id, runner_id\n",
    "ORDER BY runner_id, duration;"
   ]
  },
  {
   "cell_type": "code",
   "execution_count": 28,
   "id": "714055b5-487f-442c-82af-719f8c00d118",
   "metadata": {},
   "outputs": [],
   "source": [
    "##av.note: it seems like runners are driving are fairly low speeds (around 25 mph), one runner (id 2) for one delivery (id 8) was driving very fast (avg. 58 mph)"
   ]
  },
  {
   "cell_type": "markdown",
   "id": "e3a210a6-186b-43ad-b67e-0f9fe751153c",
   "metadata": {},
   "source": [
    "## Question B7: What is the successful delivery percentage for each runner?"
   ]
  },
  {
   "cell_type": "code",
   "execution_count": 29,
   "id": "a60daa91-770e-4d07-8d1d-48ad1382be4e",
   "metadata": {},
   "outputs": [
    {
     "name": "stdout",
     "output_type": "stream",
     "text": [
      " * sqlite:///pizza_runner.db\n",
      "Done.\n"
     ]
    },
    {
     "data": {
      "text/html": [
       "<table>\n",
       "    <tr>\n",
       "        <th>runner_id</th>\n",
       "        <th>percent_successful</th>\n",
       "    </tr>\n",
       "    <tr>\n",
       "        <td>1</td>\n",
       "        <td>100.0</td>\n",
       "    </tr>\n",
       "    <tr>\n",
       "        <td>2</td>\n",
       "        <td>75.0</td>\n",
       "    </tr>\n",
       "    <tr>\n",
       "        <td>3</td>\n",
       "        <td>50.0</td>\n",
       "    </tr>\n",
       "</table>"
      ],
      "text/plain": [
       "[(1, 100.0), (2, 75.0), (3, 50.0)]"
      ]
     },
     "execution_count": 29,
     "metadata": {},
     "output_type": "execute_result"
    }
   ],
   "source": [
    "%%sql\n",
    "SELECT runner_id, ROUND(AVG(CASE WHEN pickup_time is NOT 'null' THEN 1 ELSE 0 END) *100, 2) AS percent_successful\n",
    "FROM runner_orders\n",
    "GROUP BY runner_id;"
   ]
  },
  {
   "cell_type": "markdown",
   "id": "6462e91b-b994-4c60-8d81-348dadce88cd",
   "metadata": {},
   "source": [
    "# C. Ingredient Optimisation"
   ]
  },
  {
   "cell_type": "code",
   "execution_count": 30,
   "id": "01caefc9-f485-44fa-a7ff-49bad35db4a6",
   "metadata": {},
   "outputs": [],
   "source": [
    "## will need to use recrusive CTE in this ection, in other SQL dialects, could use STR_SPLIT"
   ]
  },
  {
   "cell_type": "markdown",
   "id": "6c0c7b53-1714-4550-9e0a-706402bb372d",
   "metadata": {},
   "source": [
    "## Question C1: What are the standard ingredients for each pizza?"
   ]
  },
  {
   "cell_type": "code",
   "execution_count": 31,
   "id": "fc9def68-7577-4803-991f-2747d8eb505c",
   "metadata": {},
   "outputs": [
    {
     "name": "stdout",
     "output_type": "stream",
     "text": [
      " * sqlite:///pizza_runner.db\n",
      "Done.\n"
     ]
    },
    {
     "data": {
      "text/html": [
       "<table>\n",
       "    <tr>\n",
       "        <th>pizza_id</th>\n",
       "        <th>toppings</th>\n",
       "    </tr>\n",
       "    <tr>\n",
       "        <td>1</td>\n",
       "        <td>1, 2, 3, 4, 5, 6, 8, 10</td>\n",
       "    </tr>\n",
       "    <tr>\n",
       "        <td>2</td>\n",
       "        <td>4, 6, 7, 9, 11, 12</td>\n",
       "    </tr>\n",
       "</table>"
      ],
      "text/plain": [
       "[(1, '1, 2, 3, 4, 5, 6, 8, 10'), (2, '4, 6, 7, 9, 11, 12')]"
      ]
     },
     "execution_count": 31,
     "metadata": {},
     "output_type": "execute_result"
    }
   ],
   "source": [
    "%%sql\n",
    "SELECT *\n",
    "FROM pizza_recipes\n",
    "\n",
    "-- IN PROGRESS"
   ]
  },
  {
   "cell_type": "code",
   "execution_count": 32,
   "id": "12403c4c-69f5-4b2c-b156-807b1a509390",
   "metadata": {},
   "outputs": [],
   "source": [
    "# https://stackoverflow.com/questions/24258878/how-to-split-comma-separated-value-in-sqlite\n",
    "# WITH split(word, str) AS (\n",
    "#     -- alternatively put your query here\n",
    "#     -- SELECT '', category||' ' FROM categories\n",
    "#     SELECT '', 'Auto A 1234444'||' '\n",
    "#     UNION ALL SELECT\n",
    "#     substr(str, 0, instr(str, ' ')),\n",
    "#     substr(str, instr(str, ' ')+1)\n",
    "#     FROM split WHERE str!=''\n",
    "# ) SELECT word FROM split WHERE word!='';"
   ]
  },
  {
   "cell_type": "code",
   "execution_count": 33,
   "id": "dba0562a-5d24-4fdc-abca-b54020e96f87",
   "metadata": {},
   "outputs": [
    {
     "name": "stdout",
     "output_type": "stream",
     "text": [
      " * sqlite:///pizza_runner.db\n",
      "Done.\n"
     ]
    },
    {
     "data": {
      "text/html": [
       "<table>\n",
       "    <tr>\n",
       "        <th>topping_id</th>\n",
       "        <th>topping_name</th>\n",
       "    </tr>\n",
       "    <tr>\n",
       "        <td>1</td>\n",
       "        <td>Bacon</td>\n",
       "    </tr>\n",
       "    <tr>\n",
       "        <td>2</td>\n",
       "        <td>BBQ Sauce</td>\n",
       "    </tr>\n",
       "    <tr>\n",
       "        <td>3</td>\n",
       "        <td>Beef</td>\n",
       "    </tr>\n",
       "    <tr>\n",
       "        <td>4</td>\n",
       "        <td>Cheese</td>\n",
       "    </tr>\n",
       "    <tr>\n",
       "        <td>5</td>\n",
       "        <td>Chicken</td>\n",
       "    </tr>\n",
       "    <tr>\n",
       "        <td>6</td>\n",
       "        <td>Mushrooms</td>\n",
       "    </tr>\n",
       "    <tr>\n",
       "        <td>7</td>\n",
       "        <td>Onions</td>\n",
       "    </tr>\n",
       "    <tr>\n",
       "        <td>8</td>\n",
       "        <td>Pepperoni</td>\n",
       "    </tr>\n",
       "    <tr>\n",
       "        <td>9</td>\n",
       "        <td>Peppers</td>\n",
       "    </tr>\n",
       "    <tr>\n",
       "        <td>10</td>\n",
       "        <td>Salami</td>\n",
       "    </tr>\n",
       "    <tr>\n",
       "        <td>11</td>\n",
       "        <td>Tomatoes</td>\n",
       "    </tr>\n",
       "    <tr>\n",
       "        <td>12</td>\n",
       "        <td>Tomato Sauce</td>\n",
       "    </tr>\n",
       "</table>"
      ],
      "text/plain": [
       "[(1, 'Bacon'),\n",
       " (2, 'BBQ Sauce'),\n",
       " (3, 'Beef'),\n",
       " (4, 'Cheese'),\n",
       " (5, 'Chicken'),\n",
       " (6, 'Mushrooms'),\n",
       " (7, 'Onions'),\n",
       " (8, 'Pepperoni'),\n",
       " (9, 'Peppers'),\n",
       " (10, 'Salami'),\n",
       " (11, 'Tomatoes'),\n",
       " (12, 'Tomato Sauce')]"
      ]
     },
     "execution_count": 33,
     "metadata": {},
     "output_type": "execute_result"
    }
   ],
   "source": [
    "%%sql\n",
    "SELECT *\n",
    "FROM pizza_toppings"
   ]
  },
  {
   "cell_type": "markdown",
   "id": "543c733c-484a-455e-b93c-ebb6962f03df",
   "metadata": {},
   "source": [
    "## Question C2: What was the most commonly added extra?"
   ]
  },
  {
   "cell_type": "code",
   "execution_count": 34,
   "id": "ba321ad6-d12d-4315-8efd-3b7b5672dfd9",
   "metadata": {},
   "outputs": [
    {
     "name": "stdout",
     "output_type": "stream",
     "text": [
      " * sqlite:///pizza_runner.db\n",
      "Done.\n"
     ]
    },
    {
     "data": {
      "text/html": [
       "<table>\n",
       "    <tr>\n",
       "        <th>order_id</th>\n",
       "        <th>customer_id</th>\n",
       "        <th>pizza_id</th>\n",
       "        <th>extras</th>\n",
       "    </tr>\n",
       "    <tr>\n",
       "        <td>5</td>\n",
       "        <td>104</td>\n",
       "        <td>1</td>\n",
       "        <td>1</td>\n",
       "    </tr>\n",
       "    <tr>\n",
       "        <td>7</td>\n",
       "        <td>105</td>\n",
       "        <td>2</td>\n",
       "        <td>1</td>\n",
       "    </tr>\n",
       "    <tr>\n",
       "        <td>9</td>\n",
       "        <td>103</td>\n",
       "        <td>1</td>\n",
       "        <td>1, 5</td>\n",
       "    </tr>\n",
       "    <tr>\n",
       "        <td>10</td>\n",
       "        <td>104</td>\n",
       "        <td>1</td>\n",
       "        <td>1, 4</td>\n",
       "    </tr>\n",
       "</table>"
      ],
      "text/plain": [
       "[(5, 104, 1, '1'), (7, 105, 2, '1'), (9, 103, 1, '1, 5'), (10, 104, 1, '1, 4')]"
      ]
     },
     "execution_count": 34,
     "metadata": {},
     "output_type": "execute_result"
    }
   ],
   "source": [
    "%%sql \n",
    "SELECT order_id, customer_id, pizza_id, extras\n",
    "FROM customer_orders\n",
    "WHERE extras IS NOT 'null' AND extras IS NOT NULL AND extras IS NOT ''"
   ]
  },
  {
   "cell_type": "code",
   "execution_count": 35,
   "id": "4bbdf691-a2cc-4202-94c7-edcc43b1aff1",
   "metadata": {},
   "outputs": [],
   "source": [
    "# /*IN PROGRESS*/\n",
    "## answer should be bacon!"
   ]
  },
  {
   "cell_type": "markdown",
   "id": "40a19af4-1e7f-42b3-b0d5-2a4b1b2a1e72",
   "metadata": {},
   "source": [
    "## Question C3: What was the most common exclusion?"
   ]
  },
  {
   "cell_type": "code",
   "execution_count": 36,
   "id": "c19916ae-f0be-4495-83f3-085ec4c63651",
   "metadata": {},
   "outputs": [
    {
     "name": "stdout",
     "output_type": "stream",
     "text": [
      " * sqlite:///pizza_runner.db\n",
      "Done.\n"
     ]
    },
    {
     "data": {
      "text/html": [
       "<table>\n",
       "    <tr>\n",
       "        <th>order_id</th>\n",
       "        <th>customer_id</th>\n",
       "        <th>pizza_id</th>\n",
       "        <th>exclusions</th>\n",
       "    </tr>\n",
       "    <tr>\n",
       "        <td>4</td>\n",
       "        <td>103</td>\n",
       "        <td>1</td>\n",
       "        <td>4</td>\n",
       "    </tr>\n",
       "    <tr>\n",
       "        <td>4</td>\n",
       "        <td>103</td>\n",
       "        <td>1</td>\n",
       "        <td>4</td>\n",
       "    </tr>\n",
       "    <tr>\n",
       "        <td>4</td>\n",
       "        <td>103</td>\n",
       "        <td>2</td>\n",
       "        <td>4</td>\n",
       "    </tr>\n",
       "    <tr>\n",
       "        <td>9</td>\n",
       "        <td>103</td>\n",
       "        <td>1</td>\n",
       "        <td>4</td>\n",
       "    </tr>\n",
       "    <tr>\n",
       "        <td>10</td>\n",
       "        <td>104</td>\n",
       "        <td>1</td>\n",
       "        <td>2, 6</td>\n",
       "    </tr>\n",
       "</table>"
      ],
      "text/plain": [
       "[(4, 103, 1, '4'),\n",
       " (4, 103, 1, '4'),\n",
       " (4, 103, 2, '4'),\n",
       " (9, 103, 1, '4'),\n",
       " (10, 104, 1, '2, 6')]"
      ]
     },
     "execution_count": 36,
     "metadata": {},
     "output_type": "execute_result"
    }
   ],
   "source": [
    "%%sql \n",
    "SELECT order_id, customer_id, pizza_id, exclusions\n",
    "FROM customer_orders\n",
    "WHERE exclusions IS NOT 'null' AND exclusions IS NOT NULL AND exclusions IS NOT ''\n",
    "\n",
    "-- In Progress"
   ]
  },
  {
   "cell_type": "code",
   "execution_count": 37,
   "id": "1e184bfe-9109-4acd-915a-d773392d3a19",
   "metadata": {},
   "outputs": [],
   "source": [
    "#answer should be cheese"
   ]
  },
  {
   "cell_type": "markdown",
   "id": "4f297145-48d3-4529-bbcc-35a2f18724dd",
   "metadata": {},
   "source": [
    "## Question C4: Generate an order item for each record in the customers_orders table in the format of one of the following:\n",
    "* Meat Lovers\n",
    "* Meat Lovers - Exclude Beef\n",
    "* Meat Lovers - Extra Bacon\n",
    "* Meat Lovers - Exclude Cheese, Bacon - Extra Mushroom, Peppers"
   ]
  },
  {
   "cell_type": "code",
   "execution_count": null,
   "id": "0d6e586b-5f6e-412f-887c-338421338793",
   "metadata": {},
   "outputs": [],
   "source": []
  },
  {
   "cell_type": "markdown",
   "id": "ae8f4a3e-480e-4b8c-bbe9-6b7fb026071b",
   "metadata": {},
   "source": [
    "## Question C5: Generate an alphabetically ordered comma separated ingredient list for each pizza order from the customer_orders table and add a 2x in front of any relevant ingredients\n",
    "For example: \"Meat Lovers: 2xBacon, Beef, ... , Salami\""
   ]
  },
  {
   "cell_type": "code",
   "execution_count": null,
   "id": "d68951b4-c13f-4636-a1f3-d00d264dddc4",
   "metadata": {},
   "outputs": [],
   "source": []
  },
  {
   "cell_type": "code",
   "execution_count": null,
   "id": "fcdaafb0-b137-4acd-acae-4c2c8433c211",
   "metadata": {},
   "outputs": [],
   "source": []
  },
  {
   "cell_type": "markdown",
   "id": "21a177ec-ad16-4286-889d-e3b415a90b81",
   "metadata": {},
   "source": [
    "## Question C6: What is the total quantity of each ingredient used in all delivered pizzas sorted by most frequent first?"
   ]
  },
  {
   "cell_type": "code",
   "execution_count": null,
   "id": "67600e06-5cf0-4c76-ae54-2d9d101667fe",
   "metadata": {},
   "outputs": [],
   "source": []
  },
  {
   "cell_type": "code",
   "execution_count": null,
   "id": "5e51d560-91d8-4971-a4bc-b45fea523d86",
   "metadata": {},
   "outputs": [],
   "source": []
  },
  {
   "cell_type": "markdown",
   "id": "8350633c-8969-4ba5-b31c-2cbabf9ab569",
   "metadata": {},
   "source": [
    "# D. Pricing and Ratings"
   ]
  },
  {
   "cell_type": "markdown",
   "id": "5b09ed61-1604-4883-ac66-92399596d975",
   "metadata": {},
   "source": [
    "## Question D1: If a Meat Lovers pizza costs $12 and Vegetarian costs $10 and there were no charges for changes - how much money has Pizza Runner made so far if there are no delivery fees?"
   ]
  },
  {
   "cell_type": "code",
   "execution_count": 38,
   "id": "3a294811-f5ab-44a9-bee2-894f4ff52cba",
   "metadata": {},
   "outputs": [
    {
     "name": "stdout",
     "output_type": "stream",
     "text": [
      " * sqlite:///pizza_runner.db\n",
      "Done.\n"
     ]
    },
    {
     "data": {
      "text/html": [
       "<table>\n",
       "    <tr>\n",
       "        <th>runner_id</th>\n",
       "        <th>total_sum</th>\n",
       "    </tr>\n",
       "    <tr>\n",
       "        <td>1</td>\n",
       "        <td>70</td>\n",
       "    </tr>\n",
       "    <tr>\n",
       "        <td>2</td>\n",
       "        <td>56</td>\n",
       "    </tr>\n",
       "    <tr>\n",
       "        <td>3</td>\n",
       "        <td>12</td>\n",
       "    </tr>\n",
       "</table>"
      ],
      "text/plain": [
       "[(1, 70), (2, 56), (3, 12)]"
      ]
     },
     "execution_count": 38,
     "metadata": {},
     "output_type": "execute_result"
    }
   ],
   "source": [
    "%%sql\n",
    "SELECT run.runner_id, SUM(CASE WHEN cust.pizza_id = 1 THEN 12 WHEN cust.pizza_id = 2 THEN 10 END) AS total_sum\n",
    "FROM customer_orders as cust\n",
    "LEFT JOIN runner_orders as run ON cust.order_id = run.order_id\n",
    "LEFT JOIN pizza_names ON cust.pizza_id = pizza_names.pizza_id\n",
    "WHERE run.cancellation IS NULL OR run.cancellation IS 'null' OR run.cancellation IS ''\n",
    "GROUP BY run.runner_id"
   ]
  },
  {
   "cell_type": "markdown",
   "id": "54e096a5-1890-428d-a538-a2f6d9e4ac54",
   "metadata": {},
   "source": [
    "## Question D2:  What if there was an additional $1 charge for any pizza extras?"
   ]
  },
  {
   "cell_type": "code",
   "execution_count": 39,
   "id": "8f2f6a24-0bf2-4556-8b90-188fd0ff661e",
   "metadata": {},
   "outputs": [
    {
     "name": "stdout",
     "output_type": "stream",
     "text": [
      " * sqlite:///pizza_runner.db\n",
      "Done.\n"
     ]
    },
    {
     "data": {
      "text/html": [
       "<table>\n",
       "    <tr>\n",
       "        <th>runner_id</th>\n",
       "        <th>total_sum</th>\n",
       "    </tr>\n",
       "    <tr>\n",
       "        <td>1</td>\n",
       "        <td>71</td>\n",
       "    </tr>\n",
       "    <tr>\n",
       "        <td>2</td>\n",
       "        <td>57</td>\n",
       "    </tr>\n",
       "    <tr>\n",
       "        <td>3</td>\n",
       "        <td>13</td>\n",
       "    </tr>\n",
       "</table>"
      ],
      "text/plain": [
       "[(1, 71), (2, 57), (3, 13)]"
      ]
     },
     "execution_count": 39,
     "metadata": {},
     "output_type": "execute_result"
    }
   ],
   "source": [
    "%%sql\n",
    "SELECT run.runner_id,\n",
    "    SUM(CASE WHEN cust.pizza_id = 1 THEN 12 WHEN cust.pizza_id = 2 THEN 10 END + \n",
    "        CASE WHEN cust.extras IS NOT 'null' AND cust.extras IS NOT NULL AND cust.extras IS NOT '' THEN 1 ELSE 0 END \n",
    "       ) AS total_sum\n",
    "FROM customer_orders as cust\n",
    "LEFT JOIN runner_orders as run ON cust.order_id = run.order_id\n",
    "LEFT JOIN pizza_names ON cust.pizza_id = pizza_names.pizza_id\n",
    "WHERE run.cancellation IS NULL OR run.cancellation IS 'null' OR run.cancellation IS ''\n",
    "GROUP BY run.runner_id"
   ]
  },
  {
   "cell_type": "markdown",
   "id": "dc74707b-54a9-4fd8-9e94-7e4a5913cec3",
   "metadata": {},
   "source": [
    "* Add cheese is $1 extra"
   ]
  },
  {
   "cell_type": "code",
   "execution_count": 40,
   "id": "10b94261-9971-4f1e-9a7c-fd48c5eed207",
   "metadata": {},
   "outputs": [
    {
     "name": "stdout",
     "output_type": "stream",
     "text": [
      " * sqlite:///pizza_runner.db\n",
      "Done.\n"
     ]
    },
    {
     "data": {
      "text/html": [
       "<table>\n",
       "    <tr>\n",
       "        <th>runner_id</th>\n",
       "        <th>total_sum</th>\n",
       "    </tr>\n",
       "    <tr>\n",
       "        <td>1</td>\n",
       "        <td>72</td>\n",
       "    </tr>\n",
       "    <tr>\n",
       "        <td>2</td>\n",
       "        <td>57</td>\n",
       "    </tr>\n",
       "    <tr>\n",
       "        <td>3</td>\n",
       "        <td>13</td>\n",
       "    </tr>\n",
       "</table>"
      ],
      "text/plain": [
       "[(1, 72), (2, 57), (3, 13)]"
      ]
     },
     "execution_count": 40,
     "metadata": {},
     "output_type": "execute_result"
    }
   ],
   "source": [
    "%%sql\n",
    "SELECT run.runner_id,\n",
    "    SUM(CASE WHEN cust.pizza_id = 1 THEN 12 WHEN cust.pizza_id = 2 THEN 10 END + \n",
    "        CASE WHEN cust.extras IS NOT 'null' AND cust.extras IS NOT NULL AND cust.extras IS NOT '' THEN 1 ELSE 0 END +\n",
    "        CASE WHEN cust.extras LIKE '%4%' THEN 1 ELSE 0 END\n",
    "       ) AS total_sum\n",
    "FROM customer_orders as cust\n",
    "LEFT JOIN runner_orders as run ON cust.order_id = run.order_id\n",
    "LEFT JOIN pizza_names ON cust.pizza_id = pizza_names.pizza_id\n",
    "WHERE run.cancellation IS NULL OR run.cancellation IS 'null' OR run.cancellation IS ''\n",
    "GROUP BY run.runner_id"
   ]
  },
  {
   "cell_type": "markdown",
   "id": "d2b1784e-3d2e-48a8-aeb9-0abfa91e8f8c",
   "metadata": {},
   "source": [
    "## Question D3: The Pizza Runner team now wants to add an additional ratings system that allows customers to rate their runner, how would you design an additional table for this new dataset - generate a schema for this new table and insert your own data for ratings for each successful customer order between 1 to 5."
   ]
  },
  {
   "cell_type": "code",
   "execution_count": null,
   "id": "fbaa9fc1-b853-4add-8b59-f6e879c5ad11",
   "metadata": {},
   "outputs": [],
   "source": []
  },
  {
   "cell_type": "markdown",
   "id": "5c01c51c-a0e0-423e-8991-3c39ba692b03",
   "metadata": {},
   "source": [
    "## Question D4: Using your newly generated table - can you join all of the information together to form a table which has the following information for successful deliveries?\n",
    "- customer_id\n",
    "- order_id\n",
    "- runner_id\n",
    "- rating\n",
    "- order_time\n",
    "- pickup_time\n",
    "- Time between order and pickup\n",
    "- Delivery duration\n",
    "- Average speed\n",
    "- Total number of pizzas"
   ]
  },
  {
   "cell_type": "code",
   "execution_count": null,
   "id": "f25cbe96-f64c-4281-b7b3-747659593617",
   "metadata": {},
   "outputs": [],
   "source": []
  },
  {
   "cell_type": "markdown",
   "id": "6aea32b0-41fd-48a0-b4ab-d0f12b63b676",
   "metadata": {},
   "source": [
    "## Question D5: If a Meat Lovers pizza was $12 and Vegetarian $10 fixed prices with no cost for extras and each runner is paid $0.30 per kilometre traveled - how much money does Pizza Runner have left over after these deliveries?"
   ]
  },
  {
   "cell_type": "code",
   "execution_count": 77,
   "id": "e7594cb4-da6c-46aa-a39c-d14cba4a4bd0",
   "metadata": {},
   "outputs": [
    {
     "name": "stdout",
     "output_type": "stream",
     "text": [
      " * sqlite:///pizza_runner.db\n",
      "Done.\n"
     ]
    },
    {
     "data": {
      "text/html": [
       "<table>\n",
       "    <tr>\n",
       "        <th>runner_id</th>\n",
       "        <th>total</th>\n",
       "    </tr>\n",
       "    <tr>\n",
       "        <td>1</td>\n",
       "        <td>89.02</td>\n",
       "    </tr>\n",
       "    <tr>\n",
       "        <td>2</td>\n",
       "        <td>77.54</td>\n",
       "    </tr>\n",
       "    <tr>\n",
       "        <td>3</td>\n",
       "        <td>15.0</td>\n",
       "    </tr>\n",
       "</table>"
      ],
      "text/plain": [
       "[(1, 89.02), (2, 77.54), (3, 15.0)]"
      ]
     },
     "execution_count": 77,
     "metadata": {},
     "output_type": "execute_result"
    }
   ],
   "source": [
    "%%sql\n",
    "WITH cost_pizzas AS (\n",
    "    SELECT run.runner_id, SUM(CASE WHEN cust.pizza_id = 1 THEN 12 WHEN cust.pizza_id = 2 THEN 10 END) AS total_sum\n",
    "    FROM customer_orders as cust\n",
    "    LEFT JOIN runner_orders as run ON cust.order_id = run.order_id\n",
    "    LEFT JOIN pizza_names ON cust.pizza_id = pizza_names.pizza_id\n",
    "    WHERE run.cancellation IS NULL OR run.cancellation IS 'null' OR run.cancellation IS ''\n",
    "    GROUP BY run.runner_id\n",
    "),\n",
    "travel_fee AS (\n",
    "    SELECT *, run.runner_id, SUM(TRIM(REPLACE(distance, 'km', '')))*0.30 as travel_profit\n",
    "    FROM runner_orders AS run \n",
    "    WHERE run.cancellation IS NULL OR run.cancellation IS 'null' OR run.cancellation IS ''\n",
    "    GROUP BY run.runner_id\n",
    ")\n",
    "SELECT travel_fee.runner_id, ROUND(SUM(travel_fee.travel_profit + cost_pizzas.total_sum), 2) as total\n",
    "FROM travel_fee\n",
    "LEFT JOIN cost_pizzas ON travel_fee.runner_id = cost_pizzas.runner_id\n",
    "GROUP BY travel_fee.runner_id"
   ]
  },
  {
   "cell_type": "code",
   "execution_count": 78,
   "id": "9d9f7711-17e1-47f6-b912-6dd8e5b8a09b",
   "metadata": {},
   "outputs": [],
   "source": [
    "# not sure if I'm interpreting the question correctly (something about money left over)"
   ]
  },
  {
   "cell_type": "markdown",
   "id": "6c508c41-a0fa-42d5-b1d5-e2771ddf8a50",
   "metadata": {},
   "source": [
    "# E. Bonus Questions\n",
    "## Question E1: If Danny wants to expand his range of pizzas - how would this impact the existing data design? Write an INSERT statement to demonstrate what would happen if a new Supreme pizza with all the toppings was added to the Pizza Runner menu?"
   ]
  },
  {
   "cell_type": "code",
   "execution_count": null,
   "id": "d07fe8ff-4353-4bb3-8afc-e469c52d43b5",
   "metadata": {},
   "outputs": [],
   "source": []
  },
  {
   "cell_type": "code",
   "execution_count": null,
   "id": "e9be04b7-fc65-4028-abb5-6734de385357",
   "metadata": {},
   "outputs": [],
   "source": []
  }
 ],
 "metadata": {
  "kernelspec": {
   "display_name": "Python 3 (ipykernel)",
   "language": "python",
   "name": "python3"
  },
  "language_info": {
   "codemirror_mode": {
    "name": "ipython",
    "version": 3
   },
   "file_extension": ".py",
   "mimetype": "text/x-python",
   "name": "python",
   "nbconvert_exporter": "python",
   "pygments_lexer": "ipython3",
   "version": "3.7.11"
  }
 },
 "nbformat": 4,
 "nbformat_minor": 5
}
