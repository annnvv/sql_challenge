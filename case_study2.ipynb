{
 "cells": [
  {
   "cell_type": "markdown",
   "id": "90bdaaeb-5efd-4fcc-abeb-bbd3992bdee2",
   "metadata": {},
   "source": [
    "# Case Study #2: Pizza Runner [Website Link](https://8weeksqlchallenge.com/case-study-2/)"
   ]
  },
  {
   "cell_type": "code",
   "execution_count": 1,
   "id": "82f811a9-f975-4c39-a872-ecb9c28dd9e3",
   "metadata": {},
   "outputs": [],
   "source": [
    "%load_ext sql\n",
    "%sql sqlite:///pizza_runner.db"
   ]
  },
  {
   "cell_type": "code",
   "execution_count": 40,
   "id": "80f50a3c-068f-4a37-867e-ae2625560d1e",
   "metadata": {},
   "outputs": [
    {
     "name": "stdout",
     "output_type": "stream",
     "text": [
      " * sqlite:///pizza_runner.db\n",
      "Done.\n"
     ]
    },
    {
     "data": {
      "text/html": [
       "<table>\n",
       "    <tr>\n",
       "        <th>order_id</th>\n",
       "        <th>customer_id</th>\n",
       "        <th>pizza_id</th>\n",
       "        <th>exclusions</th>\n",
       "        <th>extras</th>\n",
       "        <th>order_time</th>\n",
       "    </tr>\n",
       "    <tr>\n",
       "        <td>1</td>\n",
       "        <td>101</td>\n",
       "        <td>1</td>\n",
       "        <td></td>\n",
       "        <td></td>\n",
       "        <td>2020-01-01 18:05:02.000000</td>\n",
       "    </tr>\n",
       "    <tr>\n",
       "        <td>2</td>\n",
       "        <td>101</td>\n",
       "        <td>1</td>\n",
       "        <td></td>\n",
       "        <td></td>\n",
       "        <td>2020-01-01 19:00:52.000000</td>\n",
       "    </tr>\n",
       "    <tr>\n",
       "        <td>3</td>\n",
       "        <td>102</td>\n",
       "        <td>1</td>\n",
       "        <td></td>\n",
       "        <td></td>\n",
       "        <td>2020-01-02 23:51:23.000000</td>\n",
       "    </tr>\n",
       "    <tr>\n",
       "        <td>3</td>\n",
       "        <td>102</td>\n",
       "        <td>2</td>\n",
       "        <td></td>\n",
       "        <td>None</td>\n",
       "        <td>2020-01-02 23:51:23.000000</td>\n",
       "    </tr>\n",
       "    <tr>\n",
       "        <td>4</td>\n",
       "        <td>103</td>\n",
       "        <td>1</td>\n",
       "        <td>4</td>\n",
       "        <td></td>\n",
       "        <td>2020-01-04 13:23:46.000000</td>\n",
       "    </tr>\n",
       "    <tr>\n",
       "        <td>4</td>\n",
       "        <td>103</td>\n",
       "        <td>1</td>\n",
       "        <td>4</td>\n",
       "        <td></td>\n",
       "        <td>2020-01-04 13:23:46.000000</td>\n",
       "    </tr>\n",
       "    <tr>\n",
       "        <td>4</td>\n",
       "        <td>103</td>\n",
       "        <td>2</td>\n",
       "        <td>4</td>\n",
       "        <td></td>\n",
       "        <td>2020-01-04 13:23:46.000000</td>\n",
       "    </tr>\n",
       "    <tr>\n",
       "        <td>5</td>\n",
       "        <td>104</td>\n",
       "        <td>1</td>\n",
       "        <td>null</td>\n",
       "        <td>1</td>\n",
       "        <td>2020-01-08 21:00:29.000000</td>\n",
       "    </tr>\n",
       "    <tr>\n",
       "        <td>6</td>\n",
       "        <td>101</td>\n",
       "        <td>2</td>\n",
       "        <td>null</td>\n",
       "        <td>null</td>\n",
       "        <td>2020-01-08 21:03:13.000000</td>\n",
       "    </tr>\n",
       "    <tr>\n",
       "        <td>7</td>\n",
       "        <td>105</td>\n",
       "        <td>2</td>\n",
       "        <td>null</td>\n",
       "        <td>1</td>\n",
       "        <td>2020-01-08 21:20:29.000000</td>\n",
       "    </tr>\n",
       "    <tr>\n",
       "        <td>8</td>\n",
       "        <td>102</td>\n",
       "        <td>1</td>\n",
       "        <td>null</td>\n",
       "        <td>null</td>\n",
       "        <td>2020-01-09 23:54:33.000000</td>\n",
       "    </tr>\n",
       "    <tr>\n",
       "        <td>9</td>\n",
       "        <td>103</td>\n",
       "        <td>1</td>\n",
       "        <td>4</td>\n",
       "        <td>1, 5</td>\n",
       "        <td>2020-01-10 11:22:59.000000</td>\n",
       "    </tr>\n",
       "    <tr>\n",
       "        <td>10</td>\n",
       "        <td>104</td>\n",
       "        <td>1</td>\n",
       "        <td>null</td>\n",
       "        <td>null</td>\n",
       "        <td>2020-01-11 18:34:49.000000</td>\n",
       "    </tr>\n",
       "    <tr>\n",
       "        <td>10</td>\n",
       "        <td>104</td>\n",
       "        <td>1</td>\n",
       "        <td>2, 6</td>\n",
       "        <td>1, 4</td>\n",
       "        <td>2020-01-11 18:34:49.000000</td>\n",
       "    </tr>\n",
       "</table>"
      ],
      "text/plain": [
       "[(1, 101, 1, '', '', '2020-01-01 18:05:02.000000'),\n",
       " (2, 101, 1, '', '', '2020-01-01 19:00:52.000000'),\n",
       " (3, 102, 1, '', '', '2020-01-02 23:51:23.000000'),\n",
       " (3, 102, 2, '', None, '2020-01-02 23:51:23.000000'),\n",
       " (4, 103, 1, '4', '', '2020-01-04 13:23:46.000000'),\n",
       " (4, 103, 1, '4', '', '2020-01-04 13:23:46.000000'),\n",
       " (4, 103, 2, '4', '', '2020-01-04 13:23:46.000000'),\n",
       " (5, 104, 1, 'null', '1', '2020-01-08 21:00:29.000000'),\n",
       " (6, 101, 2, 'null', 'null', '2020-01-08 21:03:13.000000'),\n",
       " (7, 105, 2, 'null', '1', '2020-01-08 21:20:29.000000'),\n",
       " (8, 102, 1, 'null', 'null', '2020-01-09 23:54:33.000000'),\n",
       " (9, 103, 1, '4', '1, 5', '2020-01-10 11:22:59.000000'),\n",
       " (10, 104, 1, 'null', 'null', '2020-01-11 18:34:49.000000'),\n",
       " (10, 104, 1, '2, 6', '1, 4', '2020-01-11 18:34:49.000000')]"
      ]
     },
     "execution_count": 40,
     "metadata": {},
     "output_type": "execute_result"
    }
   ],
   "source": [
    "%%sql\n",
    "SELECT *\n",
    "FROM customer_orders \n",
    "--pizza_toppings"
   ]
  },
  {
   "cell_type": "markdown",
   "id": "055c81eb-0ae9-41d7-9ed3-a3cfe82fdfcb",
   "metadata": {},
   "source": [
    "# A. Pizza Metrics"
   ]
  },
  {
   "cell_type": "markdown",
   "id": "1ec407c2-c2cf-40fe-aa03-49c6e4fdbf21",
   "metadata": {},
   "source": [
    "## Question A1: How many pizzas were ordered?\n",
    "\n",
    "From case: \"Customer pizza orders are captured in the customer_orders table with 1 row for each individual pizza that is part of the order.\""
   ]
  },
  {
   "cell_type": "code",
   "execution_count": 10,
   "id": "ae5dfce8-e310-4046-98ff-83d21da77c63",
   "metadata": {},
   "outputs": [
    {
     "name": "stdout",
     "output_type": "stream",
     "text": [
      " * sqlite:///pizza_runner.db\n",
      "Done.\n"
     ]
    },
    {
     "data": {
      "text/html": [
       "<table>\n",
       "    <tr>\n",
       "        <th>num_pizzas</th>\n",
       "    </tr>\n",
       "    <tr>\n",
       "        <td>14</td>\n",
       "    </tr>\n",
       "</table>"
      ],
      "text/plain": [
       "[(14,)]"
      ]
     },
     "execution_count": 10,
     "metadata": {},
     "output_type": "execute_result"
    }
   ],
   "source": [
    "%%sql \n",
    "SELECT COUNT(*) as num_pizzas\n",
    "FROM customer_orders;"
   ]
  },
  {
   "cell_type": "markdown",
   "id": "1f92da2a-76b2-47ad-befc-a8cd581e93b2",
   "metadata": {},
   "source": [
    "## Question A2: How many unique customer orders were made?"
   ]
  },
  {
   "cell_type": "code",
   "execution_count": 13,
   "id": "d2cd86c9-0920-4c32-88fb-96a74ac1def2",
   "metadata": {},
   "outputs": [
    {
     "name": "stdout",
     "output_type": "stream",
     "text": [
      " * sqlite:///pizza_runner.db\n",
      "Done.\n"
     ]
    },
    {
     "data": {
      "text/html": [
       "<table>\n",
       "    <tr>\n",
       "        <th>unique_customer_orders</th>\n",
       "    </tr>\n",
       "    <tr>\n",
       "        <td>10</td>\n",
       "    </tr>\n",
       "</table>"
      ],
      "text/plain": [
       "[(10,)]"
      ]
     },
     "execution_count": 13,
     "metadata": {},
     "output_type": "execute_result"
    }
   ],
   "source": [
    "%%sql \n",
    "SELECT COUNT(DISTINCT(order_id)) as unique_customer_orders\n",
    "FROM customer_orders;"
   ]
  },
  {
   "cell_type": "markdown",
   "id": "c6ef18e0-584b-4123-8798-6e6e959ab3fb",
   "metadata": {},
   "source": [
    "## Question A3: How many successful orders were delivered by each runner?"
   ]
  },
  {
   "cell_type": "code",
   "execution_count": 45,
   "id": "718f9976-05d7-4522-ba95-bb6b064d478c",
   "metadata": {},
   "outputs": [],
   "source": [
    "# %%sql \n",
    "# SELECT *\n",
    "# FROM customer_orders AS cust\n",
    "# LEFT JOIN runner_orders AS run ON cust.order_id = run.order_id\n",
    "# WHERE run.pickup_time IS NOT 'null';"
   ]
  },
  {
   "cell_type": "code",
   "execution_count": 33,
   "id": "e91abfd3-711b-4307-b090-eee0547bb271",
   "metadata": {},
   "outputs": [
    {
     "name": "stdout",
     "output_type": "stream",
     "text": [
      " * sqlite:///pizza_runner.db\n",
      "Done.\n"
     ]
    },
    {
     "data": {
      "text/html": [
       "<table>\n",
       "    <tr>\n",
       "        <th>runner_id</th>\n",
       "        <th>orders</th>\n",
       "    </tr>\n",
       "    <tr>\n",
       "        <td>1</td>\n",
       "        <td>4</td>\n",
       "    </tr>\n",
       "    <tr>\n",
       "        <td>2</td>\n",
       "        <td>3</td>\n",
       "    </tr>\n",
       "    <tr>\n",
       "        <td>3</td>\n",
       "        <td>1</td>\n",
       "    </tr>\n",
       "</table>"
      ],
      "text/plain": [
       "[(1, 4), (2, 3), (3, 1)]"
      ]
     },
     "execution_count": 33,
     "metadata": {},
     "output_type": "execute_result"
    }
   ],
   "source": [
    "%%sql \n",
    "SELECT run.runner_id, COUNT(DISTINCT(cust.order_id)) as orders\n",
    "FROM customer_orders AS cust\n",
    "LEFT JOIN runner_orders AS run ON cust.order_id = run.order_id\n",
    "WHERE run.pickup_time IS NOT 'null'\n",
    "GROUP BY run.runner_id;"
   ]
  },
  {
   "cell_type": "markdown",
   "id": "1ffda3c2-1160-4332-a4c1-c0083cc79148",
   "metadata": {},
   "source": [
    "## Question A4: How many of each type of pizza was delivered?"
   ]
  },
  {
   "cell_type": "code",
   "execution_count": 43,
   "id": "b0b39633-d073-4a91-9623-6672e4849cf4",
   "metadata": {},
   "outputs": [
    {
     "name": "stdout",
     "output_type": "stream",
     "text": [
      " * sqlite:///pizza_runner.db\n",
      "Done.\n"
     ]
    },
    {
     "data": {
      "text/html": [
       "<table>\n",
       "    <tr>\n",
       "        <th>pizza_id</th>\n",
       "        <th>num_pizzas</th>\n",
       "    </tr>\n",
       "    <tr>\n",
       "        <td>1</td>\n",
       "        <td>9</td>\n",
       "    </tr>\n",
       "    <tr>\n",
       "        <td>2</td>\n",
       "        <td>3</td>\n",
       "    </tr>\n",
       "</table>"
      ],
      "text/plain": [
       "[(1, 9), (2, 3)]"
      ]
     },
     "execution_count": 43,
     "metadata": {},
     "output_type": "execute_result"
    }
   ],
   "source": [
    "%%sql \n",
    "SELECT customer_orders.pizza_id, COUNT(*) as num_pizzas\n",
    "FROM customer_orders\n",
    "LEFT JOIN runner_orders AS run ON customer_orders.order_id = run.order_id\n",
    "WHERE run.pickup_time IS NOT 'null'\n",
    "GROUP BY pizza_id;"
   ]
  },
  {
   "cell_type": "markdown",
   "id": "087b7ea7-ada4-47ac-8148-685f2557b19b",
   "metadata": {},
   "source": [
    "## Question A5: How many Vegetarian and Meatlovers were ordered by each customer?"
   ]
  },
  {
   "cell_type": "code",
   "execution_count": 51,
   "id": "81b38452-6bbe-493c-ac5a-8c1ab26a0bc7",
   "metadata": {},
   "outputs": [
    {
     "name": "stdout",
     "output_type": "stream",
     "text": [
      " * sqlite:///pizza_runner.db\n",
      "Done.\n"
     ]
    },
    {
     "data": {
      "text/html": [
       "<table>\n",
       "    <tr>\n",
       "        <th>customer_id</th>\n",
       "        <th>pizza_name</th>\n",
       "        <th>num_pizzas</th>\n",
       "    </tr>\n",
       "    <tr>\n",
       "        <td>101</td>\n",
       "        <td>Meatlovers</td>\n",
       "        <td>2</td>\n",
       "    </tr>\n",
       "    <tr>\n",
       "        <td>101</td>\n",
       "        <td>Vegetarian</td>\n",
       "        <td>1</td>\n",
       "    </tr>\n",
       "    <tr>\n",
       "        <td>102</td>\n",
       "        <td>Meatlovers</td>\n",
       "        <td>2</td>\n",
       "    </tr>\n",
       "    <tr>\n",
       "        <td>102</td>\n",
       "        <td>Vegetarian</td>\n",
       "        <td>1</td>\n",
       "    </tr>\n",
       "    <tr>\n",
       "        <td>103</td>\n",
       "        <td>Meatlovers</td>\n",
       "        <td>3</td>\n",
       "    </tr>\n",
       "    <tr>\n",
       "        <td>103</td>\n",
       "        <td>Vegetarian</td>\n",
       "        <td>1</td>\n",
       "    </tr>\n",
       "    <tr>\n",
       "        <td>104</td>\n",
       "        <td>Meatlovers</td>\n",
       "        <td>3</td>\n",
       "    </tr>\n",
       "    <tr>\n",
       "        <td>105</td>\n",
       "        <td>Vegetarian</td>\n",
       "        <td>1</td>\n",
       "    </tr>\n",
       "</table>"
      ],
      "text/plain": [
       "[(101, 'Meatlovers', 2),\n",
       " (101, 'Vegetarian', 1),\n",
       " (102, 'Meatlovers', 2),\n",
       " (102, 'Vegetarian', 1),\n",
       " (103, 'Meatlovers', 3),\n",
       " (103, 'Vegetarian', 1),\n",
       " (104, 'Meatlovers', 3),\n",
       " (105, 'Vegetarian', 1)]"
      ]
     },
     "execution_count": 51,
     "metadata": {},
     "output_type": "execute_result"
    }
   ],
   "source": [
    "%%sql \n",
    "SELECT customer_orders.customer_id, pizza_names.pizza_name, COUNT(*) as num_pizzas\n",
    "FROM customer_orders\n",
    "LEFT JOIN pizza_names ON customer_orders.pizza_id = pizza_names.pizza_id\n",
    "GROUP BY customer_id, pizza_name"
   ]
  },
  {
   "cell_type": "markdown",
   "id": "19853360-66e5-4f6f-9a4a-4a5f343a966d",
   "metadata": {},
   "source": [
    "## Question A6: What was the maximum number of pizzas delivered in a single order?"
   ]
  },
  {
   "cell_type": "code",
   "execution_count": 39,
   "id": "0e5f5cfe-4c33-4335-aab5-8945bb0af089",
   "metadata": {},
   "outputs": [
    {
     "name": "stdout",
     "output_type": "stream",
     "text": [
      " * sqlite:///pizza_runner.db\n",
      "Done.\n"
     ]
    },
    {
     "data": {
      "text/html": [
       "<table>\n",
       "    <tr>\n",
       "        <th>order_id</th>\n",
       "        <th>pizza_per_order</th>\n",
       "    </tr>\n",
       "    <tr>\n",
       "        <td>4</td>\n",
       "        <td>3</td>\n",
       "    </tr>\n",
       "</table>"
      ],
      "text/plain": [
       "[(4, 3)]"
      ]
     },
     "execution_count": 39,
     "metadata": {},
     "output_type": "execute_result"
    }
   ],
   "source": [
    "%%sql \n",
    "SELECT order_id, COUNT(order_id) as pizza_per_order\n",
    "FROM customer_orders\n",
    "GROUP BY order_id\n",
    "ORDER BY pizza_per_order DESC\n",
    "LIMIT 1;"
   ]
  },
  {
   "cell_type": "markdown",
   "id": "db53fc6a-959c-4de2-a3d6-9a4a2a9762a6",
   "metadata": {},
   "source": [
    "## Question A7: For each customer, how many delivered pizzas had at least 1 change and how many had no changes?"
   ]
  },
  {
   "cell_type": "code",
   "execution_count": 52,
   "id": "007d47a1-f8cc-449d-b841-52dbb8c1185b",
   "metadata": {},
   "outputs": [
    {
     "name": "stdout",
     "output_type": "stream",
     "text": [
      " * sqlite:///pizza_runner.db\n",
      "Done.\n"
     ]
    },
    {
     "data": {
      "text/html": [
       "<table>\n",
       "    <tr>\n",
       "        <th>order_id</th>\n",
       "        <th>customer_id</th>\n",
       "        <th>pizza_id</th>\n",
       "        <th>exclusions</th>\n",
       "        <th>extras</th>\n",
       "        <th>order_time</th>\n",
       "        <th>order_id_1</th>\n",
       "        <th>runner_id</th>\n",
       "        <th>pickup_time</th>\n",
       "        <th>distance</th>\n",
       "        <th>duration</th>\n",
       "        <th>cancellation</th>\n",
       "    </tr>\n",
       "    <tr>\n",
       "        <td>1</td>\n",
       "        <td>101</td>\n",
       "        <td>1</td>\n",
       "        <td></td>\n",
       "        <td></td>\n",
       "        <td>2020-01-01 18:05:02.000000</td>\n",
       "        <td>1</td>\n",
       "        <td>1</td>\n",
       "        <td>2020-01-01 18:15:34</td>\n",
       "        <td>20km</td>\n",
       "        <td>32 minutes</td>\n",
       "        <td></td>\n",
       "    </tr>\n",
       "    <tr>\n",
       "        <td>2</td>\n",
       "        <td>101</td>\n",
       "        <td>1</td>\n",
       "        <td></td>\n",
       "        <td></td>\n",
       "        <td>2020-01-01 19:00:52.000000</td>\n",
       "        <td>2</td>\n",
       "        <td>1</td>\n",
       "        <td>2020-01-01 19:10:54</td>\n",
       "        <td>20km</td>\n",
       "        <td>27 minutes</td>\n",
       "        <td></td>\n",
       "    </tr>\n",
       "    <tr>\n",
       "        <td>3</td>\n",
       "        <td>102</td>\n",
       "        <td>1</td>\n",
       "        <td></td>\n",
       "        <td></td>\n",
       "        <td>2020-01-02 23:51:23.000000</td>\n",
       "        <td>3</td>\n",
       "        <td>1</td>\n",
       "        <td>2020-01-03 00:12:37</td>\n",
       "        <td>13.4km</td>\n",
       "        <td>20 mins</td>\n",
       "        <td>None</td>\n",
       "    </tr>\n",
       "    <tr>\n",
       "        <td>3</td>\n",
       "        <td>102</td>\n",
       "        <td>2</td>\n",
       "        <td></td>\n",
       "        <td>None</td>\n",
       "        <td>2020-01-02 23:51:23.000000</td>\n",
       "        <td>3</td>\n",
       "        <td>1</td>\n",
       "        <td>2020-01-03 00:12:37</td>\n",
       "        <td>13.4km</td>\n",
       "        <td>20 mins</td>\n",
       "        <td>None</td>\n",
       "    </tr>\n",
       "    <tr>\n",
       "        <td>4</td>\n",
       "        <td>103</td>\n",
       "        <td>1</td>\n",
       "        <td>4</td>\n",
       "        <td></td>\n",
       "        <td>2020-01-04 13:23:46.000000</td>\n",
       "        <td>4</td>\n",
       "        <td>2</td>\n",
       "        <td>2020-01-04 13:53:03</td>\n",
       "        <td>23.4</td>\n",
       "        <td>40</td>\n",
       "        <td>None</td>\n",
       "    </tr>\n",
       "    <tr>\n",
       "        <td>4</td>\n",
       "        <td>103</td>\n",
       "        <td>1</td>\n",
       "        <td>4</td>\n",
       "        <td></td>\n",
       "        <td>2020-01-04 13:23:46.000000</td>\n",
       "        <td>4</td>\n",
       "        <td>2</td>\n",
       "        <td>2020-01-04 13:53:03</td>\n",
       "        <td>23.4</td>\n",
       "        <td>40</td>\n",
       "        <td>None</td>\n",
       "    </tr>\n",
       "    <tr>\n",
       "        <td>4</td>\n",
       "        <td>103</td>\n",
       "        <td>2</td>\n",
       "        <td>4</td>\n",
       "        <td></td>\n",
       "        <td>2020-01-04 13:23:46.000000</td>\n",
       "        <td>4</td>\n",
       "        <td>2</td>\n",
       "        <td>2020-01-04 13:53:03</td>\n",
       "        <td>23.4</td>\n",
       "        <td>40</td>\n",
       "        <td>None</td>\n",
       "    </tr>\n",
       "    <tr>\n",
       "        <td>5</td>\n",
       "        <td>104</td>\n",
       "        <td>1</td>\n",
       "        <td>null</td>\n",
       "        <td>1</td>\n",
       "        <td>2020-01-08 21:00:29.000000</td>\n",
       "        <td>5</td>\n",
       "        <td>3</td>\n",
       "        <td>2020-01-08 21:10:57</td>\n",
       "        <td>10</td>\n",
       "        <td>15</td>\n",
       "        <td>None</td>\n",
       "    </tr>\n",
       "    <tr>\n",
       "        <td>7</td>\n",
       "        <td>105</td>\n",
       "        <td>2</td>\n",
       "        <td>null</td>\n",
       "        <td>1</td>\n",
       "        <td>2020-01-08 21:20:29.000000</td>\n",
       "        <td>7</td>\n",
       "        <td>2</td>\n",
       "        <td>2020-01-08 21:30:45</td>\n",
       "        <td>25km</td>\n",
       "        <td>25mins</td>\n",
       "        <td>null</td>\n",
       "    </tr>\n",
       "    <tr>\n",
       "        <td>8</td>\n",
       "        <td>102</td>\n",
       "        <td>1</td>\n",
       "        <td>null</td>\n",
       "        <td>null</td>\n",
       "        <td>2020-01-09 23:54:33.000000</td>\n",
       "        <td>8</td>\n",
       "        <td>2</td>\n",
       "        <td>2020-01-10 00:15:02</td>\n",
       "        <td>23.4 km</td>\n",
       "        <td>15 minute</td>\n",
       "        <td>null</td>\n",
       "    </tr>\n",
       "    <tr>\n",
       "        <td>10</td>\n",
       "        <td>104</td>\n",
       "        <td>1</td>\n",
       "        <td>null</td>\n",
       "        <td>null</td>\n",
       "        <td>2020-01-11 18:34:49.000000</td>\n",
       "        <td>10</td>\n",
       "        <td>1</td>\n",
       "        <td>2020-01-11 18:50:20</td>\n",
       "        <td>10km</td>\n",
       "        <td>10minutes</td>\n",
       "        <td>null</td>\n",
       "    </tr>\n",
       "    <tr>\n",
       "        <td>10</td>\n",
       "        <td>104</td>\n",
       "        <td>1</td>\n",
       "        <td>2, 6</td>\n",
       "        <td>1, 4</td>\n",
       "        <td>2020-01-11 18:34:49.000000</td>\n",
       "        <td>10</td>\n",
       "        <td>1</td>\n",
       "        <td>2020-01-11 18:50:20</td>\n",
       "        <td>10km</td>\n",
       "        <td>10minutes</td>\n",
       "        <td>null</td>\n",
       "    </tr>\n",
       "</table>"
      ],
      "text/plain": [
       "[(1, 101, 1, '', '', '2020-01-01 18:05:02.000000', 1, 1, '2020-01-01 18:15:34', '20km', '32 minutes', ''),\n",
       " (2, 101, 1, '', '', '2020-01-01 19:00:52.000000', 2, 1, '2020-01-01 19:10:54', '20km', '27 minutes', ''),\n",
       " (3, 102, 1, '', '', '2020-01-02 23:51:23.000000', 3, 1, '2020-01-03 00:12:37', '13.4km', '20 mins', None),\n",
       " (3, 102, 2, '', None, '2020-01-02 23:51:23.000000', 3, 1, '2020-01-03 00:12:37', '13.4km', '20 mins', None),\n",
       " (4, 103, 1, '4', '', '2020-01-04 13:23:46.000000', 4, 2, '2020-01-04 13:53:03', '23.4', '40', None),\n",
       " (4, 103, 1, '4', '', '2020-01-04 13:23:46.000000', 4, 2, '2020-01-04 13:53:03', '23.4', '40', None),\n",
       " (4, 103, 2, '4', '', '2020-01-04 13:23:46.000000', 4, 2, '2020-01-04 13:53:03', '23.4', '40', None),\n",
       " (5, 104, 1, 'null', '1', '2020-01-08 21:00:29.000000', 5, 3, '2020-01-08 21:10:57', '10', '15', None),\n",
       " (7, 105, 2, 'null', '1', '2020-01-08 21:20:29.000000', 7, 2, '2020-01-08 21:30:45', '25km', '25mins', 'null'),\n",
       " (8, 102, 1, 'null', 'null', '2020-01-09 23:54:33.000000', 8, 2, '2020-01-10 00:15:02', '23.4 km', '15 minute', 'null'),\n",
       " (10, 104, 1, 'null', 'null', '2020-01-11 18:34:49.000000', 10, 1, '2020-01-11 18:50:20', '10km', '10minutes', 'null'),\n",
       " (10, 104, 1, '2, 6', '1, 4', '2020-01-11 18:34:49.000000', 10, 1, '2020-01-11 18:50:20', '10km', '10minutes', 'null')]"
      ]
     },
     "execution_count": 52,
     "metadata": {},
     "output_type": "execute_result"
    }
   ],
   "source": [
    "%%sql \n",
    "SELECT *\n",
    "FROM customer_orders\n",
    "LEFT JOIN runner_orders AS run ON customer_orders.order_id = run.order_id\n",
    "WHERE run.pickup_time IS NOT 'null'\n",
    "\n",
    "-- IN PROGRESS"
   ]
  },
  {
   "cell_type": "markdown",
   "id": "0beda4b5-ddab-4ec0-b67c-2d3736babeac",
   "metadata": {},
   "source": [
    "## Question A8: How many pizzas were delivered that had both exclusions and extras?"
   ]
  },
  {
   "cell_type": "code",
   "execution_count": null,
   "id": "bb7c8dcc-953c-4ec8-a9e8-d30afa9c9d03",
   "metadata": {},
   "outputs": [],
   "source": [
    "%%sql \n",
    "SELECT *\n",
    "FROM customer_orders\n",
    "LEFT JOIN runner_orders AS run ON customer_orders.order_id = run.order_id\n",
    "WHERE run.pickup_time IS NOT 'null'\n",
    "\n",
    "-- IN PROGRESS"
   ]
  },
  {
   "cell_type": "markdown",
   "id": "ecab022d-e91f-4764-913e-df1d38bc7940",
   "metadata": {},
   "source": [
    "## Question A9: What was the total volume of pizzas ordered for each hour of the day?"
   ]
  },
  {
   "cell_type": "code",
   "execution_count": null,
   "id": "22852064-58c2-4c68-a66f-905da76f7d2d",
   "metadata": {},
   "outputs": [],
   "source": []
  },
  {
   "cell_type": "markdown",
   "id": "c9b94378-7f08-4085-bd3d-383f5846de50",
   "metadata": {},
   "source": [
    "## Question A10: What was the volume of orders for each day of the week?"
   ]
  },
  {
   "cell_type": "code",
   "execution_count": null,
   "id": "0831d46e-dbb6-4af8-8e7d-c30bba1e0975",
   "metadata": {},
   "outputs": [],
   "source": []
  },
  {
   "cell_type": "markdown",
   "id": "abef9034-c8bb-47d2-808e-14048282366f",
   "metadata": {},
   "source": [
    "# B. Runner and Customer Experience"
   ]
  },
  {
   "cell_type": "code",
   "execution_count": null,
   "id": "aa594154-eb3d-47a2-b316-543d8b5a0398",
   "metadata": {},
   "outputs": [],
   "source": []
  },
  {
   "cell_type": "markdown",
   "id": "947ad0a9-1d14-45af-b986-ce80f01dea14",
   "metadata": {},
   "source": [
    "## Question B1: How many runners signed up for each 1 week period? (i.e. week starts 2021-01-01)"
   ]
  },
  {
   "cell_type": "code",
   "execution_count": null,
   "id": "33494d1f-5cf2-4a78-9a6a-cec07ee76a0b",
   "metadata": {},
   "outputs": [],
   "source": []
  },
  {
   "cell_type": "markdown",
   "id": "e454275e-a73c-4fe3-a7a6-03347625b943",
   "metadata": {},
   "source": [
    "## Question B2: What was the average time in minutes it took for each runner to arrive at the Pizza Runner HQ to pickup the order?"
   ]
  },
  {
   "cell_type": "code",
   "execution_count": null,
   "id": "2e23356f-2bc7-42c2-b7de-ce3065f2ce08",
   "metadata": {},
   "outputs": [],
   "source": []
  },
  {
   "cell_type": "markdown",
   "id": "ab667412-af8a-4832-9c1d-75dd1273128b",
   "metadata": {},
   "source": [
    "## Question B3: Is there any relationship between the number of pizzas and how long the order takes to prepare?"
   ]
  },
  {
   "cell_type": "code",
   "execution_count": null,
   "id": "4e7d50fd-b7cb-4d06-81b5-dfbdba7ec592",
   "metadata": {},
   "outputs": [],
   "source": []
  },
  {
   "cell_type": "markdown",
   "id": "29915c2f-a3db-4fbc-b17c-e6c944433f9e",
   "metadata": {},
   "source": [
    "## Question B4: What was the average distance travelled for each customer?"
   ]
  },
  {
   "cell_type": "code",
   "execution_count": null,
   "id": "94c9a14b-1efc-4c37-b1e7-229fe0954587",
   "metadata": {},
   "outputs": [],
   "source": []
  },
  {
   "cell_type": "markdown",
   "id": "d42fa906-9c29-4eb2-8ae3-93744c2e10c3",
   "metadata": {},
   "source": [
    "## Question B5: What was the difference between the longest and shortest delivery times for all orders?"
   ]
  },
  {
   "cell_type": "code",
   "execution_count": null,
   "id": "9eb5d812-0846-4867-8123-5a5d73e3581f",
   "metadata": {},
   "outputs": [],
   "source": []
  },
  {
   "cell_type": "markdown",
   "id": "275677c2-970c-49c6-8acb-f85e84a91bc0",
   "metadata": {},
   "source": [
    "## Question B6: What was the average speed for each runner for each delivery and do you notice any trend for these values?"
   ]
  },
  {
   "cell_type": "code",
   "execution_count": null,
   "id": "2becc8be-ff87-4662-8d1a-bb70fdbbf254",
   "metadata": {},
   "outputs": [],
   "source": []
  },
  {
   "cell_type": "markdown",
   "id": "e3a210a6-186b-43ad-b67e-0f9fe751153c",
   "metadata": {},
   "source": [
    "## Question B7: What is the successful delivery percentage for each runner?"
   ]
  },
  {
   "cell_type": "code",
   "execution_count": null,
   "id": "a60daa91-770e-4d07-8d1d-48ad1382be4e",
   "metadata": {},
   "outputs": [],
   "source": []
  },
  {
   "cell_type": "code",
   "execution_count": null,
   "id": "831d8ea4-14cd-41e3-b657-af5693cf9856",
   "metadata": {},
   "outputs": [],
   "source": []
  },
  {
   "cell_type": "code",
   "execution_count": null,
   "id": "a94de90d-961e-46af-b333-56511ff60c47",
   "metadata": {},
   "outputs": [],
   "source": []
  },
  {
   "cell_type": "code",
   "execution_count": null,
   "id": "a08ce94c-2b58-482f-b3a0-31add0acd75d",
   "metadata": {},
   "outputs": [],
   "source": []
  },
  {
   "cell_type": "code",
   "execution_count": null,
   "id": "b44db4c9-507a-4d42-87d1-f4f643bd2eea",
   "metadata": {},
   "outputs": [],
   "source": []
  }
 ],
 "metadata": {
  "kernelspec": {
   "display_name": "Python 3 (ipykernel)",
   "language": "python",
   "name": "python3"
  },
  "language_info": {
   "codemirror_mode": {
    "name": "ipython",
    "version": 3
   },
   "file_extension": ".py",
   "mimetype": "text/x-python",
   "name": "python",
   "nbconvert_exporter": "python",
   "pygments_lexer": "ipython3",
   "version": "3.7.11"
  }
 },
 "nbformat": 4,
 "nbformat_minor": 5
}
