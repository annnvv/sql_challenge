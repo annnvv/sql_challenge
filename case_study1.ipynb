{
 "cells": [
  {
   "cell_type": "markdown",
   "id": "371a3ed3-c4df-413a-b1ad-86e5001e5c82",
   "metadata": {},
   "source": [
    "# Case Study 1: Danny's Diner\n",
    "Each of the following case study questions can be answered using a single SQL statement:"
   ]
  },
  {
   "cell_type": "code",
   "execution_count": 1,
   "id": "7409af0e-24bf-43f5-b689-defdf0080b3e",
   "metadata": {},
   "outputs": [],
   "source": [
    "%load_ext sql\n",
    "%sql sqlite:///dannys_diner.db"
   ]
  },
  {
   "cell_type": "markdown",
   "id": "15d70401-5f62-47a7-bd7a-0a72ee50add9",
   "metadata": {},
   "source": [
    "# Question 1. What is the total amount each customer spent at the restaurant?"
   ]
  },
  {
   "cell_type": "code",
   "execution_count": 2,
   "id": "ea409422-b11a-417b-9748-5cdb5aab5811",
   "metadata": {},
   "outputs": [
    {
     "name": "stdout",
     "output_type": "stream",
     "text": [
      " * sqlite:///dannys_diner.db\n",
      "Done.\n"
     ]
    },
    {
     "data": {
      "text/html": [
       "<table>\n",
       "    <tr>\n",
       "        <th>customer_id</th>\n",
       "        <th>total_spent</th>\n",
       "    </tr>\n",
       "    <tr>\n",
       "        <td>A</td>\n",
       "        <td>76</td>\n",
       "    </tr>\n",
       "    <tr>\n",
       "        <td>B</td>\n",
       "        <td>74</td>\n",
       "    </tr>\n",
       "    <tr>\n",
       "        <td>C</td>\n",
       "        <td>36</td>\n",
       "    </tr>\n",
       "</table>"
      ],
      "text/plain": [
       "[('A', 76), ('B', 74), ('C', 36)]"
      ]
     },
     "execution_count": 2,
     "metadata": {},
     "output_type": "execute_result"
    }
   ],
   "source": [
    "%%sql\n",
    "\n",
    "SELECT sales.customer_id, SUM(menu.price) as total_spent\n",
    "FROM sales\n",
    "LEFT JOIN menu ON sales.product_id = menu.product_id \n",
    "GROUP BY sales.customer_id"
   ]
  },
  {
   "cell_type": "markdown",
   "id": "2997e5a7-29e2-42af-b2c4-52cd91d9c606",
   "metadata": {},
   "source": [
    "# Question 2. How many days has each customer visited the restaurant?"
   ]
  },
  {
   "cell_type": "code",
   "execution_count": 3,
   "id": "ff2b9cb4-6ebb-40fb-bfb8-5ce2227c2c39",
   "metadata": {},
   "outputs": [
    {
     "name": "stdout",
     "output_type": "stream",
     "text": [
      " * sqlite:///dannys_diner.db\n",
      "Done.\n"
     ]
    },
    {
     "data": {
      "text/html": [
       "<table>\n",
       "    <tr>\n",
       "        <th>customer_id</th>\n",
       "        <th>num_days_visited</th>\n",
       "    </tr>\n",
       "    <tr>\n",
       "        <td>A</td>\n",
       "        <td>4</td>\n",
       "    </tr>\n",
       "    <tr>\n",
       "        <td>B</td>\n",
       "        <td>6</td>\n",
       "    </tr>\n",
       "    <tr>\n",
       "        <td>C</td>\n",
       "        <td>2</td>\n",
       "    </tr>\n",
       "</table>"
      ],
      "text/plain": [
       "[('A', 4), ('B', 6), ('C', 2)]"
      ]
     },
     "execution_count": 3,
     "metadata": {},
     "output_type": "execute_result"
    }
   ],
   "source": [
    "%%sql\n",
    "\n",
    "SELECT customer_id, COUNT(DISTINCT(order_date)) as num_days_visited\n",
    "FROM sales\n",
    "GROUP BY customer_id"
   ]
  },
  {
   "cell_type": "markdown",
   "id": "758ead66-ed4f-46c1-b067-951bca7393bc",
   "metadata": {},
   "source": [
    "# Question 3. What was the first item from the menu purchased by each customer?"
   ]
  },
  {
   "cell_type": "code",
   "execution_count": 4,
   "id": "868f70fe-c3ad-46c9-96ef-791c7f964c63",
   "metadata": {},
   "outputs": [
    {
     "name": "stdout",
     "output_type": "stream",
     "text": [
      " * sqlite:///dannys_diner.db\n",
      "Done.\n"
     ]
    },
    {
     "data": {
      "text/html": [
       "<table>\n",
       "    <tr>\n",
       "        <th>customer_id</th>\n",
       "        <th>product_id</th>\n",
       "        <th>product_name</th>\n",
       "    </tr>\n",
       "    <tr>\n",
       "        <td>A</td>\n",
       "        <td>1</td>\n",
       "        <td>sushi</td>\n",
       "    </tr>\n",
       "    <tr>\n",
       "        <td>B</td>\n",
       "        <td>2</td>\n",
       "        <td>curry</td>\n",
       "    </tr>\n",
       "    <tr>\n",
       "        <td>C</td>\n",
       "        <td>3</td>\n",
       "        <td>ramen</td>\n",
       "    </tr>\n",
       "</table>"
      ],
      "text/plain": [
       "[('A', '1', 'sushi'), ('B', '2', 'curry'), ('C', '3', 'ramen')]"
      ]
     },
     "execution_count": 4,
     "metadata": {},
     "output_type": "execute_result"
    }
   ],
   "source": [
    "%%sql\n",
    "\n",
    "WITH row_number AS (\n",
    "    SELECT *,\n",
    "        ROW_NUMBER() OVER(PARTITION BY customer_id) AS row_num\n",
    "    FROM sales\n",
    "    GROUP BY customer_id\n",
    ")\n",
    "SELECT row_number.customer_id, row_number.product_id, menu.product_name\n",
    "FROM row_number\n",
    "LEFT JOIN menu ON row_number.product_id = menu.product_id\n",
    "WHERE row_num = 1;"
   ]
  },
  {
   "cell_type": "markdown",
   "id": "597825ed-6a33-4866-ad92-b583303df755",
   "metadata": {},
   "source": [
    "# Question 4. What is the most purchased item on the menu and how many times was it purchased by all customers?"
   ]
  },
  {
   "cell_type": "code",
   "execution_count": 5,
   "id": "65581e16-7573-4814-a867-004981787e9f",
   "metadata": {},
   "outputs": [
    {
     "name": "stdout",
     "output_type": "stream",
     "text": [
      " * sqlite:///dannys_diner.db\n",
      "Done.\n"
     ]
    },
    {
     "data": {
      "text/html": [
       "<table>\n",
       "    <tr>\n",
       "        <th>customer_id</th>\n",
       "        <th>count</th>\n",
       "    </tr>\n",
       "    <tr>\n",
       "        <td>A</td>\n",
       "        <td>3</td>\n",
       "    </tr>\n",
       "    <tr>\n",
       "        <td>B</td>\n",
       "        <td>2</td>\n",
       "    </tr>\n",
       "    <tr>\n",
       "        <td>C</td>\n",
       "        <td>3</td>\n",
       "    </tr>\n",
       "</table>"
      ],
      "text/plain": [
       "[('A', 3), ('B', 2), ('C', 3)]"
      ]
     },
     "execution_count": 5,
     "metadata": {},
     "output_type": "execute_result"
    }
   ],
   "source": [
    "%%sql\n",
    "\n",
    "SELECT customer_id, COUNT(*) as count\n",
    "FROM sales\n",
    "WHERE product_id = (\n",
    "    SELECT sales.product_id\n",
    "    FROM sales\n",
    "    LEFT JOIN menu ON sales.product_id = menu.product_id\n",
    "    GROUP BY product_name\n",
    "    ORDER BY COUNT(sales.product_id) DESC\n",
    "    LIMIT 1\n",
    "    )\n",
    "GROUP BY customer_id;"
   ]
  },
  {
   "cell_type": "markdown",
   "id": "ab5c0f29-c8e0-42a8-9ee5-b1de7c365e18",
   "metadata": {},
   "source": [
    "# Question 5. Which item was the most popular for each customer?"
   ]
  },
  {
   "cell_type": "code",
   "execution_count": 6,
   "id": "f467a06e-243a-4e6f-adc2-ee3b896edf1e",
   "metadata": {},
   "outputs": [
    {
     "name": "stdout",
     "output_type": "stream",
     "text": [
      " * sqlite:///dannys_diner.db\n",
      "Done.\n"
     ]
    },
    {
     "data": {
      "text/html": [
       "<table>\n",
       "    <tr>\n",
       "        <th>customer_id</th>\n",
       "        <th>product_id</th>\n",
       "        <th>COUNT(*)</th>\n",
       "        <th>row_num</th>\n",
       "    </tr>\n",
       "    <tr>\n",
       "        <td>A</td>\n",
       "        <td>3</td>\n",
       "        <td>3</td>\n",
       "        <td>1</td>\n",
       "    </tr>\n",
       "    <tr>\n",
       "        <td>B</td>\n",
       "        <td>1</td>\n",
       "        <td>2</td>\n",
       "        <td>1</td>\n",
       "    </tr>\n",
       "    <tr>\n",
       "        <td>C</td>\n",
       "        <td>3</td>\n",
       "        <td>3</td>\n",
       "        <td>1</td>\n",
       "    </tr>\n",
       "</table>"
      ],
      "text/plain": [
       "[('A', '3', 3, 1), ('B', '1', 2, 1), ('C', '3', 3, 1)]"
      ]
     },
     "execution_count": 6,
     "metadata": {},
     "output_type": "execute_result"
    }
   ],
   "source": [
    "%%sql\n",
    "\n",
    "WITH row_number AS (\n",
    "    SELECT customer_id, product_id, COUNT(*), ROW_NUMBER() OVER(PARTITION BY customer_id ORDER BY customer_id ASC, COUNT(*) DESC) AS row_num\n",
    "    FROM sales\n",
    "    GROUP BY customer_id, product_id\n",
    "    ORDER BY customer_id ASC, COUNT(*) DESC\n",
    ")\n",
    "SELECT *\n",
    "FROM row_number\n",
    "WHERE row_num = 1;"
   ]
  },
  {
   "cell_type": "code",
   "execution_count": 7,
   "id": "16682f57-dbb6-4e06-be22-4104f6e5fb93",
   "metadata": {},
   "outputs": [],
   "source": [
    "## ??do I need to merge menu and have the product name?"
   ]
  },
  {
   "cell_type": "markdown",
   "id": "a1c8c4d8-1b69-486f-9a2a-6477600f79f0",
   "metadata": {},
   "source": [
    "# Question 6. Which item was purchased first by the customer after they became a member?"
   ]
  },
  {
   "cell_type": "code",
   "execution_count": 8,
   "id": "35cd4f7b-197e-48c0-90fa-6b42fd18835d",
   "metadata": {},
   "outputs": [],
   "source": [
    "# %%sql\n",
    "# SELECT *\n",
    "#     FROM sales\n",
    "#     LEFT JOIN members ON sales.customer_id = members.customer_id\n",
    "#     LEFT JOIN menu ON sales.product_id = menu.product_id\n",
    "#     WHERE members.join_date < sales.order_date"
   ]
  },
  {
   "cell_type": "code",
   "execution_count": 9,
   "id": "baf2f001-39df-4d68-be27-5d0b25c6bab6",
   "metadata": {},
   "outputs": [
    {
     "name": "stdout",
     "output_type": "stream",
     "text": [
      " * sqlite:///dannys_diner.db\n",
      "Done.\n"
     ]
    },
    {
     "data": {
      "text/html": [
       "<table>\n",
       "    <tr>\n",
       "        <th>customer_id</th>\n",
       "        <th>product_id</th>\n",
       "        <th>product_name</th>\n",
       "    </tr>\n",
       "    <tr>\n",
       "        <td>A</td>\n",
       "        <td>3</td>\n",
       "        <td>ramen</td>\n",
       "    </tr>\n",
       "    <tr>\n",
       "        <td>B</td>\n",
       "        <td>1</td>\n",
       "        <td>sushi</td>\n",
       "    </tr>\n",
       "</table>"
      ],
      "text/plain": [
       "[('A', '3', 'ramen'), ('B', '1', 'sushi')]"
      ]
     },
     "execution_count": 9,
     "metadata": {},
     "output_type": "execute_result"
    }
   ],
   "source": [
    "%%sql\n",
    "\n",
    "WITH row_number AS (\n",
    " SELECT sales.customer_id, sales.product_id, menu.product_name, ROW_NUMBER() OVER(PARTITION BY sales.customer_id) as row_num\n",
    "    FROM sales\n",
    "    LEFT JOIN members ON sales.customer_id = members.customer_id\n",
    "    LEFT JOIN menu ON sales.product_id = menu.product_id\n",
    "    WHERE members.join_date < sales.order_date\n",
    ")\n",
    "\n",
    "SELECT customer_id, product_id, product_name\n",
    "FROM row_number\n",
    "WHERE row_num = 1;"
   ]
  },
  {
   "cell_type": "markdown",
   "id": "3b6a1046-ee44-43dc-8d38-9c45e45a835d",
   "metadata": {},
   "source": [
    "# Question 7. Which item was purchased just before the customer became a member?"
   ]
  },
  {
   "cell_type": "code",
   "execution_count": 10,
   "id": "97fe136d-384a-45e7-b5c5-e6bd21a0ef75",
   "metadata": {},
   "outputs": [
    {
     "name": "stdout",
     "output_type": "stream",
     "text": [
      " * sqlite:///dannys_diner.db\n",
      "Done.\n"
     ]
    },
    {
     "data": {
      "text/html": [
       "<table>\n",
       "    <tr>\n",
       "        <th>customer_id</th>\n",
       "        <th>order_date</th>\n",
       "        <th>product_id</th>\n",
       "        <th>customer_id_1</th>\n",
       "        <th>join_date</th>\n",
       "        <th>product_id_1</th>\n",
       "        <th>product_name</th>\n",
       "        <th>price</th>\n",
       "    </tr>\n",
       "    <tr>\n",
       "        <td>A</td>\n",
       "        <td>2021-01-01</td>\n",
       "        <td>1</td>\n",
       "        <td>A</td>\n",
       "        <td>2021-01-07</td>\n",
       "        <td>1</td>\n",
       "        <td>sushi</td>\n",
       "        <td>10</td>\n",
       "    </tr>\n",
       "    <tr>\n",
       "        <td>A</td>\n",
       "        <td>2021-01-01</td>\n",
       "        <td>2</td>\n",
       "        <td>A</td>\n",
       "        <td>2021-01-07</td>\n",
       "        <td>2</td>\n",
       "        <td>curry</td>\n",
       "        <td>15</td>\n",
       "    </tr>\n",
       "    <tr>\n",
       "        <td>B</td>\n",
       "        <td>2021-01-04</td>\n",
       "        <td>1</td>\n",
       "        <td>B</td>\n",
       "        <td>2021-01-09</td>\n",
       "        <td>1</td>\n",
       "        <td>sushi</td>\n",
       "        <td>10</td>\n",
       "    </tr>\n",
       "    <tr>\n",
       "        <td>B</td>\n",
       "        <td>2021-01-02</td>\n",
       "        <td>2</td>\n",
       "        <td>B</td>\n",
       "        <td>2021-01-09</td>\n",
       "        <td>2</td>\n",
       "        <td>curry</td>\n",
       "        <td>15</td>\n",
       "    </tr>\n",
       "    <tr>\n",
       "        <td>B</td>\n",
       "        <td>2021-01-01</td>\n",
       "        <td>2</td>\n",
       "        <td>B</td>\n",
       "        <td>2021-01-09</td>\n",
       "        <td>2</td>\n",
       "        <td>curry</td>\n",
       "        <td>15</td>\n",
       "    </tr>\n",
       "</table>"
      ],
      "text/plain": [
       "[('A', '2021-01-01', '1', 'A', '2021-01-07', '1', 'sushi', 10),\n",
       " ('A', '2021-01-01', '2', 'A', '2021-01-07', '2', 'curry', 15),\n",
       " ('B', '2021-01-04', '1', 'B', '2021-01-09', '1', 'sushi', 10),\n",
       " ('B', '2021-01-02', '2', 'B', '2021-01-09', '2', 'curry', 15),\n",
       " ('B', '2021-01-01', '2', 'B', '2021-01-09', '2', 'curry', 15)]"
      ]
     },
     "execution_count": 10,
     "metadata": {},
     "output_type": "execute_result"
    }
   ],
   "source": [
    "%%sql\n",
    "SELECT *\n",
    "    FROM sales\n",
    "    LEFT JOIN members ON sales.customer_id = members.customer_id\n",
    "    LEFT JOIN menu ON sales.product_id = menu.product_id\n",
    "    WHERE members.join_date > sales.order_date\n",
    "    ORDER BY sales.customer_id, sales.order_date DESC"
   ]
  },
  {
   "cell_type": "code",
   "execution_count": 11,
   "id": "9321d603-0161-4728-95ab-ff0b64da181c",
   "metadata": {},
   "outputs": [
    {
     "name": "stdout",
     "output_type": "stream",
     "text": [
      " * sqlite:///dannys_diner.db\n",
      "Done.\n"
     ]
    },
    {
     "data": {
      "text/html": [
       "<table>\n",
       "    <tr>\n",
       "        <th>customer_id</th>\n",
       "        <th>product_id</th>\n",
       "        <th>product_name</th>\n",
       "    </tr>\n",
       "    <tr>\n",
       "        <td>A</td>\n",
       "        <td>1</td>\n",
       "        <td>sushi</td>\n",
       "    </tr>\n",
       "    <tr>\n",
       "        <td>B</td>\n",
       "        <td>1</td>\n",
       "        <td>sushi</td>\n",
       "    </tr>\n",
       "</table>"
      ],
      "text/plain": [
       "[('A', '1', 'sushi'), ('B', '1', 'sushi')]"
      ]
     },
     "execution_count": 11,
     "metadata": {},
     "output_type": "execute_result"
    }
   ],
   "source": [
    "%%sql\n",
    "\n",
    "WITH row_number AS (\n",
    "    SELECT sales.customer_id, sales.product_id, menu.product_name, \n",
    "        ROW_NUMBER() OVER(PARTITION BY sales.customer_id  ORDER BY sales.customer_id, sales.order_date DESC) as row_num\n",
    "    FROM sales\n",
    "    LEFT JOIN members ON sales.customer_id = members.customer_id\n",
    "    LEFT JOIN menu ON sales.product_id = menu.product_id\n",
    "    WHERE members.join_date > sales.order_date\n",
    ")\n",
    "SELECT customer_id, product_id, product_name\n",
    "FROM row_number\n",
    "WHERE row_num = 1;"
   ]
  },
  {
   "cell_type": "markdown",
   "id": "0c6ac54d-49d6-4e57-9a81-c9edcbbe550e",
   "metadata": {},
   "source": [
    "# Question 8. What is the total items and amount spent for each member before they became a member?"
   ]
  },
  {
   "cell_type": "code",
   "execution_count": 13,
   "id": "72daca54-ec81-431e-afa8-9535a8f8cba9",
   "metadata": {},
   "outputs": [],
   "source": [
    "# %%sql\n"
   ]
  },
  {
   "cell_type": "markdown",
   "id": "f55a3a57-5c58-4f68-aa19-31cfb2b4009d",
   "metadata": {},
   "source": [
    "# Question 9. If each $1 spent equates to 10 points and sushi has a 2x points multiplier - how many points would each customer have? In the first week after a customer joins the program (including their join date) they earn 2x points on all items, not just sushi - how many points do customer A and B have at the end of January?"
   ]
  },
  {
   "cell_type": "code",
   "execution_count": null,
   "id": "205d3a82-9eb6-43c3-95a2-40767f09f03c",
   "metadata": {},
   "outputs": [],
   "source": [
    "%%sql\n"
   ]
  },
  {
   "cell_type": "code",
   "execution_count": null,
   "id": "173d144b-3847-4795-99ab-19c810ed08ac",
   "metadata": {},
   "outputs": [],
   "source": []
  },
  {
   "cell_type": "markdown",
   "id": "fcb6e471-1b0c-472d-a026-e3e3f48931a0",
   "metadata": {},
   "source": [
    "## Bonus Questions"
   ]
  },
  {
   "cell_type": "markdown",
   "id": "e80356ad-6e92-4b96-ad96-fc57634b8293",
   "metadata": {},
   "source": [
    "## Join All The Things\n",
    "The following questions are related creating basic data tables that Danny and his team can use to quickly derive insights without needing to join the underlying tables using SQL."
   ]
  },
  {
   "cell_type": "code",
   "execution_count": null,
   "id": "950421fe-6457-4654-91dd-d5d609fd6c49",
   "metadata": {},
   "outputs": [],
   "source": [
    "%%sql\n"
   ]
  },
  {
   "cell_type": "code",
   "execution_count": null,
   "id": "fa377d4b-60a7-421c-a48a-9c82e9637eb5",
   "metadata": {},
   "outputs": [],
   "source": []
  },
  {
   "cell_type": "markdown",
   "id": "8c360fb0-dbdf-4430-b617-af7be78f6b35",
   "metadata": {},
   "source": [
    "# Rank All The Things\n",
    "Danny also requires further information about the ranking of customer products, but he purposely does not need the ranking for non-member purchases so he expects null ranking values for the records when customers are not yet part of the loyalty program."
   ]
  },
  {
   "cell_type": "code",
   "execution_count": null,
   "id": "c7ce4ae0-a698-49af-9563-98a2289def7e",
   "metadata": {},
   "outputs": [],
   "source": [
    "%%sql\n"
   ]
  },
  {
   "cell_type": "code",
   "execution_count": null,
   "id": "8208fa1c-1354-46ea-906f-d14962f5ec9b",
   "metadata": {},
   "outputs": [],
   "source": []
  }
 ],
 "metadata": {
  "kernelspec": {
   "display_name": "Python 3 (ipykernel)",
   "language": "python",
   "name": "python3"
  },
  "language_info": {
   "codemirror_mode": {
    "name": "ipython",
    "version": 3
   },
   "file_extension": ".py",
   "mimetype": "text/x-python",
   "name": "python",
   "nbconvert_exporter": "python",
   "pygments_lexer": "ipython3",
   "version": "3.7.11"
  }
 },
 "nbformat": 4,
 "nbformat_minor": 5
}
